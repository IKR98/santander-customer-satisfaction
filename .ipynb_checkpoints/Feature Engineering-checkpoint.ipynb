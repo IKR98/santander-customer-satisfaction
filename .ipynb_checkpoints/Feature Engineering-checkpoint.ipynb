{
 "cells": [
  {
   "cell_type": "code",
   "execution_count": 301,
   "metadata": {
    "collapsed": false
   },
   "outputs": [],
   "source": [
    "import graphlab as gl\n",
    "\n",
    "#needed for charts\n",
    "import matplotlib.pyplot as plt\n",
    "%matplotlib inline\n",
    "from graphlab import feature_engineering as fe"
   ]
  },
  {
   "cell_type": "code",
   "execution_count": 302,
   "metadata": {
    "collapsed": false,
    "scrolled": true
   },
   "outputs": [
    {
     "data": {
      "text/html": [
       "<pre>Finished parsing file /home/ellfae/Dropbox/MyResearch/kaggle/Santander customer satisfaction/train.csv/train.csv</pre>"
      ],
      "text/plain": [
       "Finished parsing file /home/ellfae/Dropbox/MyResearch/kaggle/Santander customer satisfaction/train.csv/train.csv"
      ]
     },
     "metadata": {},
     "output_type": "display_data"
    },
    {
     "data": {
      "text/html": [
       "<pre>Parsing completed. Parsed 100 lines in 4.01384 secs.</pre>"
      ],
      "text/plain": [
       "Parsing completed. Parsed 100 lines in 4.01384 secs."
      ]
     },
     "metadata": {},
     "output_type": "display_data"
    },
    {
     "name": "stdout",
     "output_type": "stream",
     "text": [
      "------------------------------------------------------\n",
      "Inferred types from first line of file as \n",
      "column_type_hints=[int,int,int,int,float,float,float,float,int,int,float,float,float,int,int,float,int,int,float,int,int,int,int,int,int,int,int,int,int,int,int,int,int,int,int,int,int,int,int,int,int,int,int,int,int,int,int,int,int,int,int,int,int,int,int,int,int,int,int,int,int,int,int,int,int,int,int,int,int,int,int,int,int,int,int,int,int,int,int,int,int,int,int,int,int,int,int,int,int,int,int,int,int,int,int,int,int,int,int,int,int,int,int,int,int,int,int,int,int,int,int,int,int,int,int,int,int,int,int,int,int,int,int,int,int,int,int,int,int,int,int,int,int,int,int,int,int,int,int,int,int,int,int,int,int,int,int,int,int,int,int,int,int,int,int,int,int,int,int,int,int,int,int,int,float,float,int,float,float,int,int,int,int,int,float,int,float,float,float,float,int,int,int,float,float,int,int,int,float,float,int,float,int,int,int,int,int,int,int,int,int,int,int,int,int,int,int,int,int,int,int,int,int,int,int,int,int,int,int,int,int,int,int,int,int,int,int,int,int,int,int,int,int,int,int,int,int,int,int,int,int,float,float,int,int,int,int,int,int,int,int,int,int,int,int,int,int,int,int,int,int,int,int,int,int,int,int,int,int,int,int,int,int,int,int,int,int,int,int,int,int,int,int,int,int,int,int,int,int,int,int,int,int,int,int,int,int,int,int,int,int,int,int,int,int,int,int,int,int,int,int,int,int,int,int,int,int,int,int,int,int,int,int,int,int,int,int,int,int,float,float,float,float,float,float,float,float,float,int,float,float,float,float,int,float,int,int,int,int,int,int,int,int,float,int,float,float,int,int,int,int,int,int,int,int,int,int,int,int,float,int]\n",
      "If parsing fails due to incorrect types, you can correct\n",
      "the inferred type list above and pass it to read_csv in\n",
      "the column_type_hints argument\n",
      "------------------------------------------------------\n"
     ]
    },
    {
     "data": {
      "text/html": [
       "<pre>Read 67150 lines. Lines per second: 13196.3</pre>"
      ],
      "text/plain": [
       "Read 67150 lines. Lines per second: 13196.3"
      ]
     },
     "metadata": {},
     "output_type": "display_data"
    },
    {
     "data": {
      "text/html": [
       "<pre>Finished parsing file /home/ellfae/Dropbox/MyResearch/kaggle/Santander customer satisfaction/train.csv/train.csv</pre>"
      ],
      "text/plain": [
       "Finished parsing file /home/ellfae/Dropbox/MyResearch/kaggle/Santander customer satisfaction/train.csv/train.csv"
      ]
     },
     "metadata": {},
     "output_type": "display_data"
    },
    {
     "data": {
      "text/html": [
       "<pre>Parsing completed. Parsed 76020 lines in 5.45781 secs.</pre>"
      ],
      "text/plain": [
       "Parsing completed. Parsed 76020 lines in 5.45781 secs."
      ]
     },
     "metadata": {},
     "output_type": "display_data"
    },
    {
     "data": {
      "text/html": [
       "<pre>Finished parsing file /home/ellfae/Dropbox/MyResearch/kaggle/Santander customer satisfaction/test.csv/test.csv</pre>"
      ],
      "text/plain": [
       "Finished parsing file /home/ellfae/Dropbox/MyResearch/kaggle/Santander customer satisfaction/test.csv/test.csv"
      ]
     },
     "metadata": {},
     "output_type": "display_data"
    },
    {
     "data": {
      "text/html": [
       "<pre>Parsing completed. Parsed 100 lines in 2.57158 secs.</pre>"
      ],
      "text/plain": [
       "Parsing completed. Parsed 100 lines in 2.57158 secs."
      ]
     },
     "metadata": {},
     "output_type": "display_data"
    },
    {
     "name": "stdout",
     "output_type": "stream",
     "text": [
      "------------------------------------------------------\n",
      "Inferred types from first line of file as \n",
      "column_type_hints=[int,int,int,int,float,float,int,int,int,int,int,float,float,float,float,float,float,float,float,int,int,int,int,int,int,int,int,int,int,int,int,int,int,int,int,int,int,int,int,int,int,int,int,int,int,int,int,int,int,int,int,int,int,int,int,int,int,int,int,int,int,int,int,int,int,int,int,int,int,int,int,int,int,int,int,int,int,int,int,int,int,int,int,int,int,int,int,int,int,int,int,int,int,int,int,int,int,int,int,int,int,int,int,int,int,int,int,int,int,int,int,int,int,int,int,int,int,int,int,int,int,int,int,int,int,int,int,int,int,int,int,int,int,int,int,int,int,int,int,int,int,int,int,int,int,int,int,int,int,int,int,int,int,int,int,int,int,int,int,int,int,int,int,int,int,float,int,float,float,float,int,int,float,int,int,int,int,float,float,float,int,int,int,float,float,float,float,int,float,int,int,float,int,int,int,int,int,int,int,int,int,int,int,int,int,int,int,int,int,int,int,int,int,int,int,int,int,int,int,int,int,int,int,int,int,int,int,int,int,int,int,int,int,int,int,int,int,int,int,int,int,int,float,int,int,int,int,int,int,int,int,int,int,int,int,int,int,int,int,int,int,int,int,int,int,int,int,int,int,int,int,int,int,int,int,int,int,int,int,int,int,int,int,int,int,int,int,int,int,int,int,int,int,int,int,int,int,int,int,int,int,int,int,int,int,int,int,int,int,int,int,int,int,int,int,int,int,int,int,int,int,int,int,int,int,int,int,int,int,float,float,float,float,int,float,float,float,float,float,float,float,float,float,float,float,int,int,int,int,int,int,int,int,int,int,int,int,int,int,int,int,float,int,int,float,int,int,int,int,float]\n",
      "If parsing fails due to incorrect types, you can correct\n",
      "the inferred type list above and pass it to read_csv in\n",
      "the column_type_hints argument\n",
      "------------------------------------------------------\n"
     ]
    },
    {
     "data": {
      "text/html": [
       "<pre>Read 67325 lines. Lines per second: 15536.2</pre>"
      ],
      "text/plain": [
       "Read 67325 lines. Lines per second: 15536.2"
      ]
     },
     "metadata": {},
     "output_type": "display_data"
    },
    {
     "data": {
      "text/html": [
       "<pre>Finished parsing file /home/ellfae/Dropbox/MyResearch/kaggle/Santander customer satisfaction/test.csv/test.csv</pre>"
      ],
      "text/plain": [
       "Finished parsing file /home/ellfae/Dropbox/MyResearch/kaggle/Santander customer satisfaction/test.csv/test.csv"
      ]
     },
     "metadata": {},
     "output_type": "display_data"
    },
    {
     "data": {
      "text/html": [
       "<pre>Parsing completed. Parsed 75818 lines in 4.52817 secs.</pre>"
      ],
      "text/plain": [
       "Parsing completed. Parsed 75818 lines in 4.52817 secs."
      ]
     },
     "metadata": {},
     "output_type": "display_data"
    }
   ],
   "source": [
    "# loading the train and test data\n",
    "customers = gl.SFrame('train.csv/train.csv')\n",
    "test_sframe = gl.SFrame('test.csv/test.csv')"
   ]
  },
  {
   "cell_type": "code",
   "execution_count": 303,
   "metadata": {
    "collapsed": true
   },
   "outputs": [],
   "source": [
    "gl.canvas.set_target('ipynb')"
   ]
  },
  {
   "cell_type": "code",
   "execution_count": 304,
   "metadata": {
    "collapsed": false
   },
   "outputs": [
    {
     "data": {
      "text/plain": [
       "301"
      ]
     },
     "execution_count": 304,
     "metadata": {},
     "output_type": "execute_result"
    }
   ],
   "source": [
    "feature_to_clean = ['ind_var2_0', 'ind_var2', 'ind_var27_0', 'ind_var28_0', 'ind_var28', 'ind_var27', 'ind_var41', 'ind_var46_0', 'ind_var46', 'num_var27_0', 'num_var28_0', 'num_var28', 'num_var27', 'num_var41', 'num_var46_0', 'num_var46', 'saldo_var28', 'saldo_var27', 'saldo_var41', 'saldo_var46', 'imp_amort_var18_hace3', 'imp_amort_var34_hace3', 'imp_reemb_var13_hace3', 'imp_reemb_var33_hace3', 'imp_trasp_var17_out_hace3', 'imp_trasp_var33_out_hace3', 'num_var2_0_ult1', 'num_var2_ult1', 'num_reemb_var13_hace3', 'num_reemb_var33_hace3', 'num_trasp_var17_out_hace3', 'num_trasp_var33_out_hace3', 'saldo_var2_ult1', 'saldo_medio_var13_medio_hace3',\n",
    "                   'ind_var29_0', 'ind_var29', 'ind_var13_medio', 'ind_var18', 'ind_var26', \n",
    "                     'ind_var25', 'ind_var32', 'ind_var34', 'ind_var37', 'ind_var39', 'num_var29_0', \n",
    "                     'num_var29', 'num_var13_medio', 'num_var18', 'num_var26', 'num_var25', 'num_var32', \n",
    "                     'num_var34', 'num_var37', 'num_var39', 'saldo_var29', 'saldo_medio_var13_medio_ult1', \n",
    "                     'delta_num_reemb_var13_1y3', 'delta_num_reemb_var17_1y3', 'delta_num_reemb_var33_1y3', \n",
    "                     'delta_num_trasp_var17_in_1y3', 'delta_num_trasp_var17_out_1y3', \n",
    "                     'delta_num_trasp_var33_in_1y3', 'delta_num_trasp_var33_out_1y3',\n",
    "                   'delta_imp_reemb_var33_1y3',  'imp_reemb_var17_hace3', 'imp_reemb_var33_ult1', 'imp_trasp_var17_in_hace3', 'num_reemb_var17_hace3', 'num_reemb_var33_ult1', 'num_trasp_var17_in_hace3']\n",
    "\n",
    "customers.remove_columns(feature_to_clean)\n",
    "customers.num_columns()"
   ]
  },
  {
   "cell_type": "markdown",
   "metadata": {},
   "source": [
    "# Group some features based name"
   ]
  },
  {
   "cell_type": "code",
   "execution_count": 305,
   "metadata": {
    "collapsed": true
   },
   "outputs": [],
   "source": [
    "import pickle\n",
    "sums = pickle.load(open(\"sums.pickle\", \"rb\"))\n",
    "customers['sum_of_0'] = sums['sum_of_0']"
   ]
  },
  {
   "cell_type": "markdown",
   "metadata": {},
   "source": [
    "## Quadratic feature interactions"
   ]
  },
  {
   "cell_type": "code",
   "execution_count": 306,
   "metadata": {
    "collapsed": false
   },
   "outputs": [],
   "source": [
    "\n",
    "interaction_columns = ['var15', 'var38','var3', 'var36','var21' ]\n",
    "\n",
    "for feature in interaction_columns:\n",
    "    customers[feature] = customers[feature].astype(int)\n",
    "\n",
    "quad = fe.create(customers, fe.QuadraticFeatures(features=interaction_columns))\n",
    "\n",
    "def apply_quadratic(dataset):\n",
    "    if 'quadratic_features' in dataset.column_names():\n",
    "        return dataset\n",
    "    for feature in interaction_columns:\n",
    "        dataset[feature] = dataset[feature].astype(int)\n",
    "    return quad.transform(dataset)\n",
    "\n",
    "customers = apply_quadratic(customers)"
   ]
  },
  {
   "cell_type": "markdown",
   "metadata": {},
   "source": [
    "## one hot-enconding"
   ]
  },
  {
   "cell_type": "code",
   "execution_count": 307,
   "metadata": {
    "collapsed": false,
    "scrolled": true
   },
   "outputs": [
    {
     "data": {
      "text/html": [
       "<pre>WARNING: Column 'imp_op_var39_comer_ult1' is excluded due to invalid column type (float).</pre>"
      ],
      "text/plain": [
       "WARNING: Column 'imp_op_var39_comer_ult1' is excluded due to invalid column type (float)."
      ]
     },
     "metadata": {},
     "output_type": "display_data"
    },
    {
     "data": {
      "text/html": [
       "<pre>WARNING: Column 'imp_op_var39_comer_ult3' is excluded due to invalid column type (float).</pre>"
      ],
      "text/plain": [
       "WARNING: Column 'imp_op_var39_comer_ult3' is excluded due to invalid column type (float)."
      ]
     },
     "metadata": {},
     "output_type": "display_data"
    },
    {
     "data": {
      "text/html": [
       "<pre>WARNING: Column 'imp_op_var39_ult1' is excluded due to invalid column type (float).</pre>"
      ],
      "text/plain": [
       "WARNING: Column 'imp_op_var39_ult1' is excluded due to invalid column type (float)."
      ]
     },
     "metadata": {},
     "output_type": "display_data"
    },
    {
     "data": {
      "text/html": [
       "<pre>WARNING: Column 'imp_op_var40_comer_ult1' is excluded due to invalid column type (float).</pre>"
      ],
      "text/plain": [
       "WARNING: Column 'imp_op_var40_comer_ult1' is excluded due to invalid column type (float)."
      ]
     },
     "metadata": {},
     "output_type": "display_data"
    },
    {
     "data": {
      "text/html": [
       "<pre>WARNING: Column 'imp_op_var40_comer_ult3' is excluded due to invalid column type (float).</pre>"
      ],
      "text/plain": [
       "WARNING: Column 'imp_op_var40_comer_ult3' is excluded due to invalid column type (float)."
      ]
     },
     "metadata": {},
     "output_type": "display_data"
    },
    {
     "data": {
      "text/html": [
       "<pre>WARNING: Column 'imp_op_var40_ult1' is excluded due to invalid column type (float).</pre>"
      ],
      "text/plain": [
       "WARNING: Column 'imp_op_var40_ult1' is excluded due to invalid column type (float)."
      ]
     },
     "metadata": {},
     "output_type": "display_data"
    },
    {
     "data": {
      "text/html": [
       "<pre>WARNING: Column 'imp_op_var41_comer_ult1' is excluded due to invalid column type (float).</pre>"
      ],
      "text/plain": [
       "WARNING: Column 'imp_op_var41_comer_ult1' is excluded due to invalid column type (float)."
      ]
     },
     "metadata": {},
     "output_type": "display_data"
    },
    {
     "data": {
      "text/html": [
       "<pre>WARNING: Column 'imp_op_var41_comer_ult3' is excluded due to invalid column type (float).</pre>"
      ],
      "text/plain": [
       "WARNING: Column 'imp_op_var41_comer_ult3' is excluded due to invalid column type (float)."
      ]
     },
     "metadata": {},
     "output_type": "display_data"
    },
    {
     "data": {
      "text/html": [
       "<pre>WARNING: Column 'imp_op_var41_ult1' is excluded due to invalid column type (float).</pre>"
      ],
      "text/plain": [
       "WARNING: Column 'imp_op_var41_ult1' is excluded due to invalid column type (float)."
      ]
     },
     "metadata": {},
     "output_type": "display_data"
    },
    {
     "data": {
      "text/html": [
       "<pre>WARNING: Column 'imp_trans_var37_ult1' is excluded due to invalid column type (float).</pre>"
      ],
      "text/plain": [
       "WARNING: Column 'imp_trans_var37_ult1' is excluded due to invalid column type (float)."
      ]
     },
     "metadata": {},
     "output_type": "display_data"
    },
    {
     "data": {
      "text/html": [
       "<pre>WARNING: Column 'imp_var43_emit_ult1' is excluded due to invalid column type (float).</pre>"
      ],
      "text/plain": [
       "WARNING: Column 'imp_var43_emit_ult1' is excluded due to invalid column type (float)."
      ]
     },
     "metadata": {},
     "output_type": "display_data"
    },
    {
     "data": {
      "text/html": [
       "<pre>WARNING: Column 'saldo_medio_var12_hace2' is excluded due to invalid column type (float).</pre>"
      ],
      "text/plain": [
       "WARNING: Column 'saldo_medio_var12_hace2' is excluded due to invalid column type (float)."
      ]
     },
     "metadata": {},
     "output_type": "display_data"
    },
    {
     "data": {
      "text/html": [
       "<pre>WARNING: Column 'saldo_medio_var12_ult1' is excluded due to invalid column type (float).</pre>"
      ],
      "text/plain": [
       "WARNING: Column 'saldo_medio_var12_ult1' is excluded due to invalid column type (float)."
      ]
     },
     "metadata": {},
     "output_type": "display_data"
    },
    {
     "data": {
      "text/html": [
       "<pre>WARNING: Column 'saldo_medio_var12_ult3' is excluded due to invalid column type (float).</pre>"
      ],
      "text/plain": [
       "WARNING: Column 'saldo_medio_var12_ult3' is excluded due to invalid column type (float)."
      ]
     },
     "metadata": {},
     "output_type": "display_data"
    },
    {
     "data": {
      "text/html": [
       "<pre>WARNING: Column 'saldo_medio_var13_corto_hace2' is excluded due to invalid column type (float).</pre>"
      ],
      "text/plain": [
       "WARNING: Column 'saldo_medio_var13_corto_hace2' is excluded due to invalid column type (float)."
      ]
     },
     "metadata": {},
     "output_type": "display_data"
    },
    {
     "data": {
      "text/html": [
       "<pre>WARNING: Column 'saldo_medio_var13_corto_hace3' is excluded due to invalid column type (float).</pre>"
      ],
      "text/plain": [
       "WARNING: Column 'saldo_medio_var13_corto_hace3' is excluded due to invalid column type (float)."
      ]
     },
     "metadata": {},
     "output_type": "display_data"
    },
    {
     "data": {
      "text/html": [
       "<pre>WARNING: Column 'saldo_medio_var13_corto_ult3' is excluded due to invalid column type (float).</pre>"
      ],
      "text/plain": [
       "WARNING: Column 'saldo_medio_var13_corto_ult3' is excluded due to invalid column type (float)."
      ]
     },
     "metadata": {},
     "output_type": "display_data"
    },
    {
     "data": {
      "text/html": [
       "<pre>WARNING: Column 'saldo_medio_var17_hace2' is excluded due to invalid column type (float).</pre>"
      ],
      "text/plain": [
       "WARNING: Column 'saldo_medio_var17_hace2' is excluded due to invalid column type (float)."
      ]
     },
     "metadata": {},
     "output_type": "display_data"
    },
    {
     "data": {
      "text/html": [
       "<pre>WARNING: Column 'saldo_medio_var17_ult1' is excluded due to invalid column type (float).</pre>"
      ],
      "text/plain": [
       "WARNING: Column 'saldo_medio_var17_ult1' is excluded due to invalid column type (float)."
      ]
     },
     "metadata": {},
     "output_type": "display_data"
    },
    {
     "data": {
      "text/html": [
       "<pre>WARNING: Column 'saldo_medio_var17_ult3' is excluded due to invalid column type (float).</pre>"
      ],
      "text/plain": [
       "WARNING: Column 'saldo_medio_var17_ult3' is excluded due to invalid column type (float)."
      ]
     },
     "metadata": {},
     "output_type": "display_data"
    },
    {
     "data": {
      "text/html": [
       "<pre>WARNING: Column 'saldo_medio_var5_hace2' is excluded due to invalid column type (float).</pre>"
      ],
      "text/plain": [
       "WARNING: Column 'saldo_medio_var5_hace2' is excluded due to invalid column type (float)."
      ]
     },
     "metadata": {},
     "output_type": "display_data"
    },
    {
     "data": {
      "text/html": [
       "<pre>WARNING: Column 'saldo_medio_var5_hace3' is excluded due to invalid column type (float).</pre>"
      ],
      "text/plain": [
       "WARNING: Column 'saldo_medio_var5_hace3' is excluded due to invalid column type (float)."
      ]
     },
     "metadata": {},
     "output_type": "display_data"
    },
    {
     "data": {
      "text/html": [
       "<pre>WARNING: Column 'saldo_medio_var5_ult1' is excluded due to invalid column type (float).</pre>"
      ],
      "text/plain": [
       "WARNING: Column 'saldo_medio_var5_ult1' is excluded due to invalid column type (float)."
      ]
     },
     "metadata": {},
     "output_type": "display_data"
    },
    {
     "data": {
      "text/html": [
       "<pre>WARNING: Column 'saldo_medio_var5_ult3' is excluded due to invalid column type (float).</pre>"
      ],
      "text/plain": [
       "WARNING: Column 'saldo_medio_var5_ult3' is excluded due to invalid column type (float)."
      ]
     },
     "metadata": {},
     "output_type": "display_data"
    },
    {
     "data": {
      "text/html": [
       "<pre>WARNING: Column 'saldo_medio_var8_hace2' is excluded due to invalid column type (float).</pre>"
      ],
      "text/plain": [
       "WARNING: Column 'saldo_medio_var8_hace2' is excluded due to invalid column type (float)."
      ]
     },
     "metadata": {},
     "output_type": "display_data"
    },
    {
     "data": {
      "text/html": [
       "<pre>WARNING: Column 'saldo_medio_var8_hace3' is excluded due to invalid column type (float).</pre>"
      ],
      "text/plain": [
       "WARNING: Column 'saldo_medio_var8_hace3' is excluded due to invalid column type (float)."
      ]
     },
     "metadata": {},
     "output_type": "display_data"
    },
    {
     "data": {
      "text/html": [
       "<pre>WARNING: Column 'saldo_medio_var8_ult1' is excluded due to invalid column type (float).</pre>"
      ],
      "text/plain": [
       "WARNING: Column 'saldo_medio_var8_ult1' is excluded due to invalid column type (float)."
      ]
     },
     "metadata": {},
     "output_type": "display_data"
    },
    {
     "data": {
      "text/html": [
       "<pre>WARNING: Column 'saldo_medio_var8_ult3' is excluded due to invalid column type (float).</pre>"
      ],
      "text/plain": [
       "WARNING: Column 'saldo_medio_var8_ult3' is excluded due to invalid column type (float)."
      ]
     },
     "metadata": {},
     "output_type": "display_data"
    },
    {
     "data": {
      "text/html": [
       "<pre>WARNING: Column 'saldo_var1' is excluded due to invalid column type (float).</pre>"
      ],
      "text/plain": [
       "WARNING: Column 'saldo_var1' is excluded due to invalid column type (float)."
      ]
     },
     "metadata": {},
     "output_type": "display_data"
    },
    {
     "data": {
      "text/html": [
       "<pre>WARNING: Column 'saldo_var12' is excluded due to invalid column type (float).</pre>"
      ],
      "text/plain": [
       "WARNING: Column 'saldo_var12' is excluded due to invalid column type (float)."
      ]
     },
     "metadata": {},
     "output_type": "display_data"
    },
    {
     "data": {
      "text/html": [
       "<pre>WARNING: Column 'saldo_var17' is excluded due to invalid column type (float).</pre>"
      ],
      "text/plain": [
       "WARNING: Column 'saldo_var17' is excluded due to invalid column type (float)."
      ]
     },
     "metadata": {},
     "output_type": "display_data"
    },
    {
     "data": {
      "text/html": [
       "<pre>WARNING: Column 'saldo_var20' is excluded due to invalid column type (float).</pre>"
      ],
      "text/plain": [
       "WARNING: Column 'saldo_var20' is excluded due to invalid column type (float)."
      ]
     },
     "metadata": {},
     "output_type": "display_data"
    },
    {
     "data": {
      "text/html": [
       "<pre>WARNING: Column 'saldo_var24' is excluded due to invalid column type (float).</pre>"
      ],
      "text/plain": [
       "WARNING: Column 'saldo_var24' is excluded due to invalid column type (float)."
      ]
     },
     "metadata": {},
     "output_type": "display_data"
    },
    {
     "data": {
      "text/html": [
       "<pre>WARNING: Column 'saldo_var25' is excluded due to invalid column type (float).</pre>"
      ],
      "text/plain": [
       "WARNING: Column 'saldo_var25' is excluded due to invalid column type (float)."
      ]
     },
     "metadata": {},
     "output_type": "display_data"
    },
    {
     "data": {
      "text/html": [
       "<pre>WARNING: Column 'saldo_var26' is excluded due to invalid column type (float).</pre>"
      ],
      "text/plain": [
       "WARNING: Column 'saldo_var26' is excluded due to invalid column type (float)."
      ]
     },
     "metadata": {},
     "output_type": "display_data"
    },
    {
     "data": {
      "text/html": [
       "<pre>WARNING: Column 'saldo_var30' is excluded due to invalid column type (float).</pre>"
      ],
      "text/plain": [
       "WARNING: Column 'saldo_var30' is excluded due to invalid column type (float)."
      ]
     },
     "metadata": {},
     "output_type": "display_data"
    },
    {
     "data": {
      "text/html": [
       "<pre>WARNING: Column 'saldo_var31' is excluded due to invalid column type (float).</pre>"
      ],
      "text/plain": [
       "WARNING: Column 'saldo_var31' is excluded due to invalid column type (float)."
      ]
     },
     "metadata": {},
     "output_type": "display_data"
    },
    {
     "data": {
      "text/html": [
       "<pre>WARNING: Column 'saldo_var37' is excluded due to invalid column type (float).</pre>"
      ],
      "text/plain": [
       "WARNING: Column 'saldo_var37' is excluded due to invalid column type (float)."
      ]
     },
     "metadata": {},
     "output_type": "display_data"
    },
    {
     "data": {
      "text/html": [
       "<pre>WARNING: Column 'saldo_var40' is excluded due to invalid column type (float).</pre>"
      ],
      "text/plain": [
       "WARNING: Column 'saldo_var40' is excluded due to invalid column type (float)."
      ]
     },
     "metadata": {},
     "output_type": "display_data"
    },
    {
     "data": {
      "text/html": [
       "<pre>WARNING: Column 'saldo_var42' is excluded due to invalid column type (float).</pre>"
      ],
      "text/plain": [
       "WARNING: Column 'saldo_var42' is excluded due to invalid column type (float)."
      ]
     },
     "metadata": {},
     "output_type": "display_data"
    },
    {
     "data": {
      "text/html": [
       "<pre>WARNING: Column 'saldo_var5' is excluded due to invalid column type (float).</pre>"
      ],
      "text/plain": [
       "WARNING: Column 'saldo_var5' is excluded due to invalid column type (float)."
      ]
     },
     "metadata": {},
     "output_type": "display_data"
    },
    {
     "data": {
      "text/html": [
       "<pre>WARNING: Column 'saldo_var8' is excluded due to invalid column type (float).</pre>"
      ],
      "text/plain": [
       "WARNING: Column 'saldo_var8' is excluded due to invalid column type (float)."
      ]
     },
     "metadata": {},
     "output_type": "display_data"
    }
   ],
   "source": [
    "onehot = fe.create(customers, fe.OneHotEncoder(\n",
    "    excluded_features=['ID','TARGET','sum_of_0','var15', 'var3', 'var36','var21' ,'var38', 'quadratic_features'],\n",
    "    max_categories=300))"
   ]
  },
  {
   "cell_type": "code",
   "execution_count": 308,
   "metadata": {
    "collapsed": true
   },
   "outputs": [],
   "source": [
    "def apply_onehot(dataset):\n",
    "    if 'encoded_features' in dataset.column_names():\n",
    "        return dataset\n",
    "    return onehot.transform(dataset)"
   ]
  },
  {
   "cell_type": "code",
   "execution_count": 309,
   "metadata": {
    "collapsed": true
   },
   "outputs": [],
   "source": [
    "customers = apply_onehot(customers)"
   ]
  },
  {
   "cell_type": "code",
   "execution_count": 310,
   "metadata": {
    "collapsed": false,
    "scrolled": true
   },
   "outputs": [
    {
     "data": {
      "text/plain": [
       "['ID',\n",
       " 'var3',\n",
       " 'var15',\n",
       " 'imp_op_var39_comer_ult1',\n",
       " 'imp_op_var39_comer_ult3',\n",
       " 'imp_op_var40_comer_ult1',\n",
       " 'imp_op_var40_comer_ult3',\n",
       " 'imp_op_var40_ult1',\n",
       " 'imp_op_var41_comer_ult1',\n",
       " 'imp_op_var41_comer_ult3',\n",
       " 'imp_op_var41_ult1',\n",
       " 'imp_op_var39_ult1',\n",
       " 'saldo_var1',\n",
       " 'saldo_var5',\n",
       " 'saldo_var8',\n",
       " 'saldo_var12',\n",
       " 'saldo_var17',\n",
       " 'saldo_var20',\n",
       " 'saldo_var24',\n",
       " 'saldo_var26',\n",
       " 'saldo_var25',\n",
       " 'saldo_var30',\n",
       " 'saldo_var31',\n",
       " 'saldo_var37',\n",
       " 'saldo_var40',\n",
       " 'saldo_var42',\n",
       " 'var36',\n",
       " 'imp_var43_emit_ult1',\n",
       " 'imp_trans_var37_ult1',\n",
       " 'var21',\n",
       " 'saldo_medio_var5_hace2',\n",
       " 'saldo_medio_var5_hace3',\n",
       " 'saldo_medio_var5_ult1',\n",
       " 'saldo_medio_var5_ult3',\n",
       " 'saldo_medio_var8_hace2',\n",
       " 'saldo_medio_var8_hace3',\n",
       " 'saldo_medio_var8_ult1',\n",
       " 'saldo_medio_var8_ult3',\n",
       " 'saldo_medio_var12_hace2',\n",
       " 'saldo_medio_var12_ult1',\n",
       " 'saldo_medio_var12_ult3',\n",
       " 'saldo_medio_var13_corto_hace2',\n",
       " 'saldo_medio_var13_corto_hace3',\n",
       " 'saldo_medio_var13_corto_ult3',\n",
       " 'saldo_medio_var17_hace2',\n",
       " 'saldo_medio_var17_ult1',\n",
       " 'saldo_medio_var17_ult3',\n",
       " 'var38',\n",
       " 'TARGET',\n",
       " 'sum_of_0',\n",
       " 'quadratic_features',\n",
       " 'encoded_features']"
      ]
     },
     "execution_count": 310,
     "metadata": {},
     "output_type": "execute_result"
    }
   ],
   "source": [
    "customers.column_names()"
   ]
  },
  {
   "cell_type": "code",
   "execution_count": 311,
   "metadata": {
    "collapsed": true
   },
   "outputs": [],
   "source": [
    "train_data, test_data = customers.random_split(.8, seed=2)"
   ]
  },
  {
   "cell_type": "code",
   "execution_count": 312,
   "metadata": {
    "collapsed": false,
    "scrolled": true
   },
   "outputs": [
    {
     "name": "stdout",
     "output_type": "stream",
     "text": [
      "PROGRESS: Creating a validation set from 5 percent of training data. This may take a while.\n",
      "          You can set ``validation_set=None`` to disable validation tracking.\n",
      "\n"
     ]
    },
    {
     "data": {
      "text/html": [
       "<pre>Boosted trees classifier:</pre>"
      ],
      "text/plain": [
       "Boosted trees classifier:"
      ]
     },
     "metadata": {},
     "output_type": "display_data"
    },
    {
     "data": {
      "text/html": [
       "<pre>--------------------------------------------------------</pre>"
      ],
      "text/plain": [
       "--------------------------------------------------------"
      ]
     },
     "metadata": {},
     "output_type": "display_data"
    },
    {
     "data": {
      "text/html": [
       "<pre>Number of examples          : 57789</pre>"
      ],
      "text/plain": [
       "Number of examples          : 57789"
      ]
     },
     "metadata": {},
     "output_type": "display_data"
    },
    {
     "data": {
      "text/html": [
       "<pre>Number of classes           : 2</pre>"
      ],
      "text/plain": [
       "Number of classes           : 2"
      ]
     },
     "metadata": {},
     "output_type": "display_data"
    },
    {
     "data": {
      "text/html": [
       "<pre>Number of feature columns   : 51</pre>"
      ],
      "text/plain": [
       "Number of feature columns   : 51"
      ]
     },
     "metadata": {},
     "output_type": "display_data"
    },
    {
     "data": {
      "text/html": [
       "<pre>Number of unpacked features : 7594</pre>"
      ],
      "text/plain": [
       "Number of unpacked features : 7594"
      ]
     },
     "metadata": {},
     "output_type": "display_data"
    },
    {
     "data": {
      "text/html": [
       "<pre>+-----------+--------------+--------------+----------------+</pre>"
      ],
      "text/plain": [
       "+-----------+--------------+--------------+----------------+"
      ]
     },
     "metadata": {},
     "output_type": "display_data"
    },
    {
     "data": {
      "text/html": [
       "<pre>| Iteration | Elapsed Time | Training-auc | Validation-auc |</pre>"
      ],
      "text/plain": [
       "| Iteration | Elapsed Time | Training-auc | Validation-auc |"
      ]
     },
     "metadata": {},
     "output_type": "display_data"
    },
    {
     "data": {
      "text/html": [
       "<pre>+-----------+--------------+--------------+----------------+</pre>"
      ],
      "text/plain": [
       "+-----------+--------------+--------------+----------------+"
      ]
     },
     "metadata": {},
     "output_type": "display_data"
    },
    {
     "data": {
      "text/html": [
       "<pre>| 1         | 0.451941     | 0.803362     | 0.823444       |</pre>"
      ],
      "text/plain": [
       "| 1         | 0.451941     | 0.803362     | 0.823444       |"
      ]
     },
     "metadata": {},
     "output_type": "display_data"
    },
    {
     "data": {
      "text/html": [
       "<pre>| 2         | 0.901793     | 0.823558     | 0.831530       |</pre>"
      ],
      "text/plain": [
       "| 2         | 0.901793     | 0.823558     | 0.831530       |"
      ]
     },
     "metadata": {},
     "output_type": "display_data"
    },
    {
     "data": {
      "text/html": [
       "<pre>| 3         | 1.320581     | 0.831112     | 0.840677       |</pre>"
      ],
      "text/plain": [
       "| 3         | 1.320581     | 0.831112     | 0.840677       |"
      ]
     },
     "metadata": {},
     "output_type": "display_data"
    },
    {
     "data": {
      "text/html": [
       "<pre>| 4         | 1.748501     | 0.833291     | 0.841789       |</pre>"
      ],
      "text/plain": [
       "| 4         | 1.748501     | 0.833291     | 0.841789       |"
      ]
     },
     "metadata": {},
     "output_type": "display_data"
    },
    {
     "data": {
      "text/html": [
       "<pre>| 5         | 2.174322     | 0.838574     | 0.837713       |</pre>"
      ],
      "text/plain": [
       "| 5         | 2.174322     | 0.838574     | 0.837713       |"
      ]
     },
     "metadata": {},
     "output_type": "display_data"
    },
    {
     "data": {
      "text/html": [
       "<pre>| 6         | 2.622153     | 0.841207     | 0.837757       |</pre>"
      ],
      "text/plain": [
       "| 6         | 2.622153     | 0.841207     | 0.837757       |"
      ]
     },
     "metadata": {},
     "output_type": "display_data"
    },
    {
     "data": {
      "text/html": [
       "<pre>| 10        | 4.317062     | 0.853357     | 0.846726       |</pre>"
      ],
      "text/plain": [
       "| 10        | 4.317062     | 0.853357     | 0.846726       |"
      ]
     },
     "metadata": {},
     "output_type": "display_data"
    },
    {
     "data": {
      "text/html": [
       "<pre>+-----------+--------------+--------------+----------------+</pre>"
      ],
      "text/plain": [
       "+-----------+--------------+--------------+----------------+"
      ]
     },
     "metadata": {},
     "output_type": "display_data"
    }
   ],
   "source": [
    "customer_model = gl.boosted_trees_classifier.create(train_data, target='TARGET', row_subsample=0.7, \n",
    "                                                    max_depth=5, metric='auc',\n",
    "                                                   column_subsample=0.8)"
   ]
  },
  {
   "cell_type": "code",
   "execution_count": 313,
   "metadata": {
    "collapsed": false
   },
   "outputs": [
    {
     "data": {
      "text/plain": [
       "{'accuracy': 0.9622233861463926,\n",
       " 'auc': 0.8280080856879183,\n",
       " 'confusion_matrix': Columns:\n",
       " \ttarget_label\tint\n",
       " \tpredicted_label\tint\n",
       " \tcount\tint\n",
       " \n",
       " Rows: 2\n",
       " \n",
       " Data:\n",
       " +--------------+-----------------+-------+\n",
       " | target_label | predicted_label | count |\n",
       " +--------------+-----------------+-------+\n",
       " |      1       |        0        |  577  |\n",
       " |      0       |        0        | 14697 |\n",
       " +--------------+-----------------+-------+\n",
       " [2 rows x 3 columns],\n",
       " 'f1_score': 0.0,\n",
       " 'log_loss': 0.14107804993750347,\n",
       " 'precision': None,\n",
       " 'recall': 0.0,\n",
       " 'roc_curve': Columns:\n",
       " \tthreshold\tfloat\n",
       " \tfpr\tfloat\n",
       " \ttpr\tfloat\n",
       " \tp\tint\n",
       " \tn\tint\n",
       " \n",
       " Rows: 100001\n",
       " \n",
       " Data:\n",
       " +-----------+-----+-----+-----+-------+\n",
       " | threshold | fpr | tpr |  p  |   n   |\n",
       " +-----------+-----+-----+-----+-------+\n",
       " |    0.0    | 1.0 | 1.0 | 577 | 14697 |\n",
       " |   1e-05   | 1.0 | 1.0 | 577 | 14697 |\n",
       " |   2e-05   | 1.0 | 1.0 | 577 | 14697 |\n",
       " |   3e-05   | 1.0 | 1.0 | 577 | 14697 |\n",
       " |   4e-05   | 1.0 | 1.0 | 577 | 14697 |\n",
       " |   5e-05   | 1.0 | 1.0 | 577 | 14697 |\n",
       " |   6e-05   | 1.0 | 1.0 | 577 | 14697 |\n",
       " |   7e-05   | 1.0 | 1.0 | 577 | 14697 |\n",
       " |   8e-05   | 1.0 | 1.0 | 577 | 14697 |\n",
       " |   9e-05   | 1.0 | 1.0 | 577 | 14697 |\n",
       " +-----------+-----+-----+-----+-------+\n",
       " [100001 rows x 5 columns]\n",
       " Note: Only the head of the SFrame is printed.\n",
       " You can use print_rows(num_rows=m, num_columns=n) to print more rows and columns.}"
      ]
     },
     "execution_count": 313,
     "metadata": {},
     "output_type": "execute_result"
    }
   ],
   "source": [
    "customer_model.evaluate(test_data)"
   ]
  },
  {
   "cell_type": "code",
   "execution_count": null,
   "metadata": {
    "collapsed": true
   },
   "outputs": [],
   "source": []
  }
 ],
 "metadata": {
  "kernelspec": {
   "display_name": "Python 2",
   "language": "python",
   "name": "python2"
  },
  "language_info": {
   "codemirror_mode": {
    "name": "ipython",
    "version": 2
   },
   "file_extension": ".py",
   "mimetype": "text/x-python",
   "name": "python",
   "nbconvert_exporter": "python",
   "pygments_lexer": "ipython2",
   "version": "2.7.11"
  }
 },
 "nbformat": 4,
 "nbformat_minor": 0
}
