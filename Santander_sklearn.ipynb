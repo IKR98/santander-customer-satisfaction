{
 "cells": [
  {
   "cell_type": "code",
   "execution_count": 155,
   "metadata": {
    "collapsed": false
   },
   "outputs": [],
   "source": [
    "from __future__ import division\n",
    "\n",
    "import matplotlib.pyplot as plt\n",
    "import numpy as np\n",
    "import pandas as pd\n",
    "import xgboost as xgb\n",
    "from sklearn.cross_validation import train_test_split\n",
    "from sklearn.ensemble import RandomForestClassifier\n",
    "from sklearn.metrics import roc_auc_score\n",
    "from sklearn.pipeline import Pipeline\n",
    "from sklearn.svm import OneClassSVM\n",
    "import pickle"
   ]
  },
  {
   "cell_type": "code",
   "execution_count": 156,
   "metadata": {
    "collapsed": false
   },
   "outputs": [],
   "source": [
    "# load the data\n",
    "df_train = pd.read_csv('train.csv/train.csv')\n",
    "df_test = pd.read_csv('test.csv/test.csv')\n",
    "\n",
    "#load the pickle where extra computer features are stored\n",
    "my_features = pickle.load(open(\"sums.pickle\", \"rb\"))"
   ]
  },
  {
   "cell_type": "code",
   "execution_count": 157,
   "metadata": {
    "collapsed": false
   },
   "outputs": [],
   "source": [
    "feature_to_clean = ['ind_var2_0', 'ind_var2', 'ind_var27_0', 'ind_var28_0', 'ind_var28', 'ind_var27', 'ind_var41', 'ind_var46_0', 'ind_var46', 'num_var27_0', 'num_var28_0', 'num_var28', 'num_var27', 'num_var41', 'num_var46_0', 'num_var46', 'saldo_var28', 'saldo_var27', 'saldo_var41', 'saldo_var46', 'imp_amort_var18_hace3', 'imp_amort_var34_hace3', 'imp_reemb_var13_hace3', 'imp_reemb_var33_hace3', 'imp_trasp_var17_out_hace3', 'imp_trasp_var33_out_hace3', 'num_var2_0_ult1', 'num_var2_ult1', 'num_reemb_var13_hace3', 'num_reemb_var33_hace3', 'num_trasp_var17_out_hace3', 'num_trasp_var33_out_hace3', 'saldo_var2_ult1', 'saldo_medio_var13_medio_hace3',\n",
    "                   'ind_var29_0', 'ind_var29', 'ind_var13_medio', 'ind_var18', 'ind_var26', \n",
    "                     'ind_var25', 'ind_var32', 'ind_var34', 'ind_var37', 'ind_var39', 'num_var29_0', \n",
    "                     'num_var29', 'num_var13_medio', 'num_var18', 'num_var26', 'num_var25', 'num_var32', \n",
    "                     'num_var34', 'num_var37', 'num_var39', 'saldo_var29', 'saldo_medio_var13_medio_ult1', \n",
    "                     'delta_num_reemb_var13_1y3', 'delta_num_reemb_var17_1y3', 'delta_num_reemb_var33_1y3', \n",
    "                     'delta_num_trasp_var17_in_1y3', 'delta_num_trasp_var17_out_1y3', \n",
    "                     'delta_num_trasp_var33_in_1y3', 'delta_num_trasp_var33_out_1y3',\n",
    "                   'delta_imp_reemb_var33_1y3',  'imp_reemb_var17_hace3', 'imp_reemb_var33_ult1', 'imp_trasp_var17_in_hace3', 'num_reemb_var17_hace3', 'num_reemb_var33_ult1', 'num_trasp_var17_in_hace3']\n",
    "\n",
    "\n",
    "\n",
    "df_train.drop(feature_to_clean, axis=1, inplace=True)\n",
    "df_test.drop(feature_to_clean, axis=1, inplace=True)"
   ]
  },
  {
   "cell_type": "markdown",
   "metadata": {},
   "source": [
    "## Add binary features for each value\n",
    "1. here I want to add additional columns for each value in each feature.\n",
    "2. For now I will just try add add \"1\" for where \"0\" is found"
   ]
  },
  {
   "cell_type": "code",
   "execution_count": 158,
   "metadata": {
    "collapsed": true
   },
   "outputs": [],
   "source": [
    "features_extraction = ['num_var13_corto', 'num_var13_corto_0', 'num_meses_var12_ult3', 'num_meses_var13_corto_ult3',\n",
    "                      'num_meses_var39_vig_ult3', 'num_meses_var5_ult3','num_var24_0','num_var12','var36',\n",
    "                      'num_var5','num_var5_0','num_var12_0','num_var13','num_var13_0','num_var42','num_var4',\n",
    "                      'num_var42_0','num_var30','num_var39_0','num_var41_0']\n"
   ]
  },
  {
   "cell_type": "code",
   "execution_count": 159,
   "metadata": {
    "collapsed": false
   },
   "outputs": [
    {
     "data": {
      "text/plain": [
       "'\\ndef add_binary_features(cols,cat):\\n    for value in cols:\\n        if value == cat:\\n            return 1\\n        else:\\n            return 0 \\n\\ntracker = 1\\nfor f in features_extraction:\\n    categories = df_train[f].unique()\\n    for cat in categories:\\n        df_train[f+\"_\"+str(cat)] = df_train[[f]].apply(add_binary_features, args=(cat,), axis=1)\\n    print \"Done with \" + str(tracker)\\n    tracker+=1\\n'"
      ]
     },
     "execution_count": 159,
     "metadata": {},
     "output_type": "execute_result"
    }
   ],
   "source": [
    "#add a binary new feature for each category in each of the features extraction\n",
    "\n",
    "def add_binary_features(cols,cat):\n",
    "    for value in cols:\n",
    "        if value == cat:\n",
    "            return 1\n",
    "        else:\n",
    "            return 0 \n",
    "\n",
    "tracker = 1\n",
    "for f in features_extraction:\n",
    "    categories = df_train[f].unique()\n",
    "    for cat in categories:\n",
    "        df_train[f+\"_\"+str(cat)] = df_train[[f]].apply(add_binary_features, args=(cat,), axis=1)\n",
    "    print \"Done with \" + str(tracker)\n",
    "    tracker+=1\n"
   ]
  },
  {
   "cell_type": "code",
   "execution_count": 160,
   "metadata": {
    "collapsed": true
   },
   "outputs": [],
   "source": [
    "#df_train.drop(features_extraction, axis=1, inplace=True)\n",
    "#df_test.drop(features_extraction, axis=1, inplace=True)"
   ]
  },
  {
   "cell_type": "markdown",
   "metadata": {},
   "source": [
    "## Add Sum of 0's"
   ]
  },
  {
   "cell_type": "code",
   "execution_count": 161,
   "metadata": {
    "collapsed": false
   },
   "outputs": [],
   "source": [
    "features = [f for f in df_train.columns if f != 'TARGET' and f!='ID' ]\n",
    "#df_train['sum_of_0'] = my_features['sum_of_0']\n",
    "def calculate_zeros(cols):\n",
    "    sum_array = [] \n",
    "    for value in cols:\n",
    "        if value == 0:\n",
    "            sum_array.append(value)\n",
    "    return len(sum_array)\n",
    "\n",
    "df_train['sum_of_0'] = df_train[features].apply(calculate_zeros, axis=1)\n",
    "df_test['sum_of_0'] = df_test[features].apply(calculate_zeros, axis=1)"
   ]
  },
  {
   "cell_type": "code",
   "execution_count": 162,
   "metadata": {
    "collapsed": false
   },
   "outputs": [
    {
     "data": {
      "text/plain": [
       "0        285\n",
       "1        259\n",
       "2        270\n",
       "3        241\n",
       "4        249\n",
       "5        285\n",
       "6        270\n",
       "7        271\n",
       "8        285\n",
       "9        276\n",
       "10       253\n",
       "11       285\n",
       "12       266\n",
       "13       243\n",
       "14       211\n",
       "15       270\n",
       "16       290\n",
       "17       244\n",
       "18       255\n",
       "19       270\n",
       "20       285\n",
       "21       270\n",
       "22       248\n",
       "23       248\n",
       "24       285\n",
       "25       201\n",
       "26       285\n",
       "27       285\n",
       "28       270\n",
       "29       237\n",
       "        ... \n",
       "75990    217\n",
       "75991    269\n",
       "75992    270\n",
       "75993    285\n",
       "75994    277\n",
       "75995    271\n",
       "75996    270\n",
       "75997    270\n",
       "75998    285\n",
       "75999    235\n",
       "76000    257\n",
       "76001    270\n",
       "76002    246\n",
       "76003    236\n",
       "76004    246\n",
       "76005    248\n",
       "76006    227\n",
       "76007    285\n",
       "76008    268\n",
       "76009    238\n",
       "76010    285\n",
       "76011    222\n",
       "76012    246\n",
       "76013    240\n",
       "76014    230\n",
       "76015    285\n",
       "76016    254\n",
       "76017    271\n",
       "76018    270\n",
       "76019    285\n",
       "Name: sum_of_0, dtype: int64"
      ]
     },
     "execution_count": 162,
     "metadata": {},
     "output_type": "execute_result"
    }
   ],
   "source": [
    "df_train['sum_of_0']"
   ]
  },
  {
   "cell_type": "code",
   "execution_count": 163,
   "metadata": {
    "collapsed": true
   },
   "outputs": [],
   "source": [
    "#prepare data for model\n",
    "y_train = df_train['TARGET'].values\n",
    "X_train = df_train.drop(['ID','TARGET'], axis=1).values"
   ]
  },
  {
   "cell_type": "code",
   "execution_count": 164,
   "metadata": {
    "collapsed": false
   },
   "outputs": [],
   "source": [
    "id_test = df_test['ID']\n",
    "X_test = df_test.drop(['ID'], axis=1).values"
   ]
  },
  {
   "cell_type": "code",
   "execution_count": 165,
   "metadata": {
    "collapsed": true
   },
   "outputs": [],
   "source": [
    "# classifier\n",
    "clf = xgb.XGBClassifier(missing=np.nan, max_depth=5, n_estimators=350, \n",
    "                        learning_rate=0.03, nthread=4, subsample=0.95, \n",
    "                        colsample_bytree=0.85, seed=4242)"
   ]
  },
  {
   "cell_type": "code",
   "execution_count": 166,
   "metadata": {
    "collapsed": true
   },
   "outputs": [],
   "source": [
    "X_fit, X_eval, y_fit, y_eval= train_test_split(X_train, y_train, test_size=0.3)"
   ]
  },
  {
   "cell_type": "code",
   "execution_count": 167,
   "metadata": {
    "collapsed": false
   },
   "outputs": [
    {
     "name": "stderr",
     "output_type": "stream",
     "text": [
      "Will train until validation_0 error hasn't decreased in 20 rounds.\n",
      "[0]\tvalidation_0-auc:0.767471\n",
      "[1]\tvalidation_0-auc:0.783326\n",
      "[2]\tvalidation_0-auc:0.805103\n",
      "[3]\tvalidation_0-auc:0.789699\n",
      "[4]\tvalidation_0-auc:0.792127\n",
      "[5]\tvalidation_0-auc:0.795795\n",
      "[6]\tvalidation_0-auc:0.802650\n",
      "[7]\tvalidation_0-auc:0.807788\n",
      "[8]\tvalidation_0-auc:0.800707\n",
      "[9]\tvalidation_0-auc:0.798828\n",
      "[10]\tvalidation_0-auc:0.801777\n",
      "[11]\tvalidation_0-auc:0.799618\n",
      "[12]\tvalidation_0-auc:0.802402\n",
      "[13]\tvalidation_0-auc:0.800230\n",
      "[14]\tvalidation_0-auc:0.803008\n",
      "[15]\tvalidation_0-auc:0.804977\n",
      "[16]\tvalidation_0-auc:0.803877\n",
      "[17]\tvalidation_0-auc:0.806636\n",
      "[18]\tvalidation_0-auc:0.807967\n",
      "[19]\tvalidation_0-auc:0.805143\n",
      "[20]\tvalidation_0-auc:0.806271\n",
      "[21]\tvalidation_0-auc:0.807524\n",
      "[22]\tvalidation_0-auc:0.808583\n",
      "[23]\tvalidation_0-auc:0.809914\n",
      "[24]\tvalidation_0-auc:0.811353\n",
      "[25]\tvalidation_0-auc:0.812425\n",
      "[26]\tvalidation_0-auc:0.813593\n",
      "[27]\tvalidation_0-auc:0.815352\n",
      "[28]\tvalidation_0-auc:0.816571\n",
      "[29]\tvalidation_0-auc:0.818591\n",
      "[30]\tvalidation_0-auc:0.815283\n",
      "[31]\tvalidation_0-auc:0.816081\n",
      "[32]\tvalidation_0-auc:0.816950\n",
      "[33]\tvalidation_0-auc:0.818371\n",
      "[34]\tvalidation_0-auc:0.819474\n",
      "[35]\tvalidation_0-auc:0.821041\n",
      "[36]\tvalidation_0-auc:0.820806\n",
      "[37]\tvalidation_0-auc:0.822506\n",
      "[38]\tvalidation_0-auc:0.823950\n",
      "[39]\tvalidation_0-auc:0.824535\n",
      "[40]\tvalidation_0-auc:0.825635\n",
      "[41]\tvalidation_0-auc:0.825312\n",
      "[42]\tvalidation_0-auc:0.825367\n",
      "[43]\tvalidation_0-auc:0.822166\n",
      "[44]\tvalidation_0-auc:0.823668\n",
      "[45]\tvalidation_0-auc:0.824943\n",
      "[46]\tvalidation_0-auc:0.825980\n",
      "[47]\tvalidation_0-auc:0.826555\n",
      "[48]\tvalidation_0-auc:0.827333\n",
      "[49]\tvalidation_0-auc:0.827840\n",
      "[50]\tvalidation_0-auc:0.828832\n",
      "[51]\tvalidation_0-auc:0.829466\n",
      "[52]\tvalidation_0-auc:0.829756\n",
      "[53]\tvalidation_0-auc:0.830207\n",
      "[54]\tvalidation_0-auc:0.830330\n",
      "[55]\tvalidation_0-auc:0.831074\n",
      "[56]\tvalidation_0-auc:0.831485\n",
      "[57]\tvalidation_0-auc:0.832274\n",
      "[58]\tvalidation_0-auc:0.832062\n",
      "[59]\tvalidation_0-auc:0.832658\n",
      "[60]\tvalidation_0-auc:0.833214\n",
      "[61]\tvalidation_0-auc:0.833566\n",
      "[62]\tvalidation_0-auc:0.833989\n",
      "[63]\tvalidation_0-auc:0.834346\n",
      "[64]\tvalidation_0-auc:0.835115\n",
      "[65]\tvalidation_0-auc:0.835725\n",
      "[66]\tvalidation_0-auc:0.836142\n",
      "[67]\tvalidation_0-auc:0.836686\n",
      "[68]\tvalidation_0-auc:0.836986\n",
      "[69]\tvalidation_0-auc:0.837205\n",
      "[70]\tvalidation_0-auc:0.837733\n",
      "[71]\tvalidation_0-auc:0.838399\n",
      "[72]\tvalidation_0-auc:0.838975\n",
      "[73]\tvalidation_0-auc:0.839260\n",
      "[74]\tvalidation_0-auc:0.839850\n",
      "[75]\tvalidation_0-auc:0.840290\n",
      "[76]\tvalidation_0-auc:0.840512\n",
      "[77]\tvalidation_0-auc:0.841042\n",
      "[78]\tvalidation_0-auc:0.841377\n",
      "[79]\tvalidation_0-auc:0.841374\n",
      "[80]\tvalidation_0-auc:0.841783\n",
      "[81]\tvalidation_0-auc:0.841419\n",
      "[82]\tvalidation_0-auc:0.841910\n",
      "[83]\tvalidation_0-auc:0.841215\n",
      "[84]\tvalidation_0-auc:0.841623\n",
      "[85]\tvalidation_0-auc:0.842008\n",
      "[86]\tvalidation_0-auc:0.842448\n",
      "[87]\tvalidation_0-auc:0.842624\n",
      "[88]\tvalidation_0-auc:0.843372\n",
      "[89]\tvalidation_0-auc:0.843965\n",
      "[90]\tvalidation_0-auc:0.844405\n",
      "[91]\tvalidation_0-auc:0.844435\n",
      "[92]\tvalidation_0-auc:0.844605\n",
      "[93]\tvalidation_0-auc:0.845093\n",
      "[94]\tvalidation_0-auc:0.845467\n",
      "[95]\tvalidation_0-auc:0.845813\n",
      "[96]\tvalidation_0-auc:0.846160\n",
      "[97]\tvalidation_0-auc:0.846369\n",
      "[98]\tvalidation_0-auc:0.846488\n",
      "[99]\tvalidation_0-auc:0.846699\n",
      "[100]\tvalidation_0-auc:0.846860\n",
      "[101]\tvalidation_0-auc:0.847355\n",
      "[102]\tvalidation_0-auc:0.847489\n",
      "[103]\tvalidation_0-auc:0.847921\n",
      "[104]\tvalidation_0-auc:0.848130\n",
      "[105]\tvalidation_0-auc:0.848579\n",
      "[106]\tvalidation_0-auc:0.848993\n",
      "[107]\tvalidation_0-auc:0.849322\n",
      "[108]\tvalidation_0-auc:0.849590\n",
      "[109]\tvalidation_0-auc:0.849911\n",
      "[110]\tvalidation_0-auc:0.850147\n",
      "[111]\tvalidation_0-auc:0.850566\n",
      "[112]\tvalidation_0-auc:0.850945\n",
      "[113]\tvalidation_0-auc:0.851182\n",
      "[114]\tvalidation_0-auc:0.851329\n",
      "[115]\tvalidation_0-auc:0.851486\n",
      "[116]\tvalidation_0-auc:0.851743\n",
      "[117]\tvalidation_0-auc:0.851870\n",
      "[118]\tvalidation_0-auc:0.852086\n",
      "[119]\tvalidation_0-auc:0.852423\n",
      "[120]\tvalidation_0-auc:0.852647\n",
      "[121]\tvalidation_0-auc:0.853178\n",
      "[122]\tvalidation_0-auc:0.853743\n",
      "[123]\tvalidation_0-auc:0.853919\n",
      "[124]\tvalidation_0-auc:0.854182\n",
      "[125]\tvalidation_0-auc:0.854423\n",
      "[126]\tvalidation_0-auc:0.854544\n",
      "[127]\tvalidation_0-auc:0.854802\n",
      "[128]\tvalidation_0-auc:0.854970\n",
      "[129]\tvalidation_0-auc:0.855117\n",
      "[130]\tvalidation_0-auc:0.855340\n",
      "[131]\tvalidation_0-auc:0.855617\n",
      "[132]\tvalidation_0-auc:0.855878\n",
      "[133]\tvalidation_0-auc:0.856158\n",
      "[134]\tvalidation_0-auc:0.856497\n",
      "[135]\tvalidation_0-auc:0.856651\n",
      "[136]\tvalidation_0-auc:0.856881\n",
      "[137]\tvalidation_0-auc:0.857061\n",
      "[138]\tvalidation_0-auc:0.857474\n",
      "[139]\tvalidation_0-auc:0.857624\n",
      "[140]\tvalidation_0-auc:0.857708\n",
      "[141]\tvalidation_0-auc:0.857893\n",
      "[142]\tvalidation_0-auc:0.858166\n",
      "[143]\tvalidation_0-auc:0.858489\n",
      "[144]\tvalidation_0-auc:0.858675\n",
      "[145]\tvalidation_0-auc:0.858847\n",
      "[146]\tvalidation_0-auc:0.859020\n",
      "[147]\tvalidation_0-auc:0.859281\n",
      "[148]\tvalidation_0-auc:0.859369\n",
      "[149]\tvalidation_0-auc:0.859509\n",
      "[150]\tvalidation_0-auc:0.859685\n",
      "[151]\tvalidation_0-auc:0.859856\n",
      "[152]\tvalidation_0-auc:0.859995\n",
      "[153]\tvalidation_0-auc:0.860138\n",
      "[154]\tvalidation_0-auc:0.860433\n",
      "[155]\tvalidation_0-auc:0.860505\n",
      "[156]\tvalidation_0-auc:0.860737\n",
      "[157]\tvalidation_0-auc:0.860826\n",
      "[158]\tvalidation_0-auc:0.860908\n",
      "[159]\tvalidation_0-auc:0.860962\n",
      "[160]\tvalidation_0-auc:0.861155\n",
      "[161]\tvalidation_0-auc:0.861297\n",
      "[162]\tvalidation_0-auc:0.861439\n",
      "[163]\tvalidation_0-auc:0.861506\n",
      "[164]\tvalidation_0-auc:0.861627\n",
      "[165]\tvalidation_0-auc:0.861701\n",
      "[166]\tvalidation_0-auc:0.861929\n",
      "[167]\tvalidation_0-auc:0.862100\n",
      "[168]\tvalidation_0-auc:0.862291\n",
      "[169]\tvalidation_0-auc:0.862403\n",
      "[170]\tvalidation_0-auc:0.862565\n",
      "[171]\tvalidation_0-auc:0.862748\n",
      "[172]\tvalidation_0-auc:0.862750\n",
      "[173]\tvalidation_0-auc:0.862894\n",
      "[174]\tvalidation_0-auc:0.863001\n",
      "[175]\tvalidation_0-auc:0.863135\n",
      "[176]\tvalidation_0-auc:0.863311\n",
      "[177]\tvalidation_0-auc:0.863482\n",
      "[178]\tvalidation_0-auc:0.863544\n",
      "[179]\tvalidation_0-auc:0.863766\n",
      "[180]\tvalidation_0-auc:0.863695\n",
      "[181]\tvalidation_0-auc:0.863735\n",
      "[182]\tvalidation_0-auc:0.863986\n",
      "[183]\tvalidation_0-auc:0.864120\n",
      "[184]\tvalidation_0-auc:0.864227\n",
      "[185]\tvalidation_0-auc:0.864325\n",
      "[186]\tvalidation_0-auc:0.864459\n",
      "[187]\tvalidation_0-auc:0.864683\n",
      "[188]\tvalidation_0-auc:0.864828\n",
      "[189]\tvalidation_0-auc:0.865005\n",
      "[190]\tvalidation_0-auc:0.865107\n",
      "[191]\tvalidation_0-auc:0.865192\n",
      "[192]\tvalidation_0-auc:0.865264\n",
      "[193]\tvalidation_0-auc:0.865362\n",
      "[194]\tvalidation_0-auc:0.865400\n",
      "[195]\tvalidation_0-auc:0.865401\n",
      "[196]\tvalidation_0-auc:0.865539\n",
      "[197]\tvalidation_0-auc:0.865691\n",
      "[198]\tvalidation_0-auc:0.865669\n",
      "[199]\tvalidation_0-auc:0.865777\n",
      "[200]\tvalidation_0-auc:0.865839\n",
      "[201]\tvalidation_0-auc:0.865916\n",
      "[202]\tvalidation_0-auc:0.866086\n",
      "[203]\tvalidation_0-auc:0.866073\n",
      "[204]\tvalidation_0-auc:0.866159\n",
      "[205]\tvalidation_0-auc:0.866300\n",
      "[206]\tvalidation_0-auc:0.866402\n",
      "[207]\tvalidation_0-auc:0.866535\n",
      "[208]\tvalidation_0-auc:0.866663\n",
      "[209]\tvalidation_0-auc:0.866734\n",
      "[210]\tvalidation_0-auc:0.866891\n",
      "[211]\tvalidation_0-auc:0.866976\n",
      "[212]\tvalidation_0-auc:0.867295\n",
      "[213]\tvalidation_0-auc:0.867367\n",
      "[214]\tvalidation_0-auc:0.867468\n",
      "[215]\tvalidation_0-auc:0.867704\n",
      "[216]\tvalidation_0-auc:0.867819\n",
      "[217]\tvalidation_0-auc:0.867753\n",
      "[218]\tvalidation_0-auc:0.867962\n",
      "[219]\tvalidation_0-auc:0.868106\n",
      "[220]\tvalidation_0-auc:0.868223\n",
      "[221]\tvalidation_0-auc:0.868356\n",
      "[222]\tvalidation_0-auc:0.868530\n",
      "[223]\tvalidation_0-auc:0.868700\n",
      "[224]\tvalidation_0-auc:0.868880\n",
      "[225]\tvalidation_0-auc:0.868539\n",
      "[226]\tvalidation_0-auc:0.868329\n",
      "[227]\tvalidation_0-auc:0.868542\n",
      "[228]\tvalidation_0-auc:0.868631\n",
      "[229]\tvalidation_0-auc:0.868733\n",
      "[230]\tvalidation_0-auc:0.868769\n",
      "[231]\tvalidation_0-auc:0.868922\n",
      "[232]\tvalidation_0-auc:0.869113\n",
      "[233]\tvalidation_0-auc:0.869292\n",
      "[234]\tvalidation_0-auc:0.869461\n",
      "[235]\tvalidation_0-auc:0.869552\n",
      "[236]\tvalidation_0-auc:0.869574\n",
      "[237]\tvalidation_0-auc:0.869783\n",
      "[238]\tvalidation_0-auc:0.869920\n",
      "[239]\tvalidation_0-auc:0.869797\n",
      "[240]\tvalidation_0-auc:0.869858\n",
      "[241]\tvalidation_0-auc:0.869940\n",
      "[242]\tvalidation_0-auc:0.870054\n",
      "[243]\tvalidation_0-auc:0.870114\n",
      "[244]\tvalidation_0-auc:0.870132\n",
      "[245]\tvalidation_0-auc:0.870161\n",
      "[246]\tvalidation_0-auc:0.870225\n",
      "[247]\tvalidation_0-auc:0.870343\n",
      "[248]\tvalidation_0-auc:0.870402\n",
      "[249]\tvalidation_0-auc:0.870413\n",
      "[250]\tvalidation_0-auc:0.870501\n",
      "[251]\tvalidation_0-auc:0.870558\n",
      "[252]\tvalidation_0-auc:0.870607\n",
      "[253]\tvalidation_0-auc:0.870648\n",
      "[254]\tvalidation_0-auc:0.870784\n",
      "[255]\tvalidation_0-auc:0.870958\n",
      "[256]\tvalidation_0-auc:0.871046\n",
      "[257]\tvalidation_0-auc:0.871106\n",
      "[258]\tvalidation_0-auc:0.871172\n",
      "[259]\tvalidation_0-auc:0.871252\n",
      "[260]\tvalidation_0-auc:0.871280\n",
      "[261]\tvalidation_0-auc:0.871324\n",
      "[262]\tvalidation_0-auc:0.871456\n",
      "[263]\tvalidation_0-auc:0.871559\n",
      "[264]\tvalidation_0-auc:0.871607\n",
      "[265]\tvalidation_0-auc:0.871715\n",
      "[266]\tvalidation_0-auc:0.871782\n",
      "[267]\tvalidation_0-auc:0.871868\n",
      "[268]\tvalidation_0-auc:0.871912\n",
      "[269]\tvalidation_0-auc:0.871950\n",
      "[270]\tvalidation_0-auc:0.871983\n",
      "[271]\tvalidation_0-auc:0.872118\n",
      "[272]\tvalidation_0-auc:0.872160\n",
      "[273]\tvalidation_0-auc:0.872187\n",
      "[274]\tvalidation_0-auc:0.872232\n",
      "[275]\tvalidation_0-auc:0.872322\n",
      "[276]\tvalidation_0-auc:0.872348\n",
      "[277]\tvalidation_0-auc:0.872373\n",
      "[278]\tvalidation_0-auc:0.872543\n",
      "[279]\tvalidation_0-auc:0.872202\n",
      "[280]\tvalidation_0-auc:0.872285\n",
      "[281]\tvalidation_0-auc:0.872376\n",
      "[282]\tvalidation_0-auc:0.872396\n",
      "[283]\tvalidation_0-auc:0.872458\n",
      "[284]\tvalidation_0-auc:0.872480\n",
      "[285]\tvalidation_0-auc:0.872498\n",
      "[286]\tvalidation_0-auc:0.872520\n",
      "[287]\tvalidation_0-auc:0.872558\n",
      "[288]\tvalidation_0-auc:0.872690\n",
      "[289]\tvalidation_0-auc:0.872815\n",
      "[290]\tvalidation_0-auc:0.872841\n",
      "[291]\tvalidation_0-auc:0.872891\n",
      "[292]\tvalidation_0-auc:0.872979\n",
      "[293]\tvalidation_0-auc:0.872877\n",
      "[294]\tvalidation_0-auc:0.872923\n",
      "[295]\tvalidation_0-auc:0.872967\n",
      "[296]\tvalidation_0-auc:0.872981\n",
      "[297]\tvalidation_0-auc:0.873084\n",
      "[298]\tvalidation_0-auc:0.873125\n",
      "[299]\tvalidation_0-auc:0.873243\n",
      "[300]\tvalidation_0-auc:0.873337\n",
      "[301]\tvalidation_0-auc:0.873224\n",
      "[302]\tvalidation_0-auc:0.873253\n",
      "[303]\tvalidation_0-auc:0.873356\n",
      "[304]\tvalidation_0-auc:0.873438\n",
      "[305]\tvalidation_0-auc:0.873491\n",
      "[306]\tvalidation_0-auc:0.873506\n",
      "[307]\tvalidation_0-auc:0.873583\n",
      "[308]\tvalidation_0-auc:0.873607\n",
      "[309]\tvalidation_0-auc:0.873535\n",
      "[310]\tvalidation_0-auc:0.873568\n",
      "[311]\tvalidation_0-auc:0.873659\n",
      "[312]\tvalidation_0-auc:0.873678\n",
      "[313]\tvalidation_0-auc:0.873733\n",
      "[314]\tvalidation_0-auc:0.873781\n",
      "[315]\tvalidation_0-auc:0.873837\n",
      "[316]\tvalidation_0-auc:0.873721\n",
      "[317]\tvalidation_0-auc:0.873825\n",
      "[318]\tvalidation_0-auc:0.873901\n",
      "[319]\tvalidation_0-auc:0.873991\n",
      "[320]\tvalidation_0-auc:0.874030\n",
      "[321]\tvalidation_0-auc:0.874100\n",
      "[322]\tvalidation_0-auc:0.874176\n",
      "[323]\tvalidation_0-auc:0.874383\n",
      "[324]\tvalidation_0-auc:0.874312\n",
      "[325]\tvalidation_0-auc:0.874440\n",
      "[326]\tvalidation_0-auc:0.874641\n",
      "[327]\tvalidation_0-auc:0.874671\n",
      "[328]\tvalidation_0-auc:0.874785\n",
      "[329]\tvalidation_0-auc:0.874808\n",
      "[330]\tvalidation_0-auc:0.874834\n",
      "[331]\tvalidation_0-auc:0.874836\n",
      "[332]\tvalidation_0-auc:0.874893\n",
      "[333]\tvalidation_0-auc:0.874953\n",
      "[334]\tvalidation_0-auc:0.874994\n",
      "[335]\tvalidation_0-auc:0.875085\n",
      "[336]\tvalidation_0-auc:0.875123\n",
      "[337]\tvalidation_0-auc:0.875186\n",
      "[338]\tvalidation_0-auc:0.875196\n",
      "[339]\tvalidation_0-auc:0.875271\n",
      "[340]\tvalidation_0-auc:0.875374\n",
      "[341]\tvalidation_0-auc:0.875458\n",
      "[342]\tvalidation_0-auc:0.875291\n",
      "[343]\tvalidation_0-auc:0.875545\n",
      "[344]\tvalidation_0-auc:0.875557\n",
      "[345]\tvalidation_0-auc:0.875619\n",
      "[346]\tvalidation_0-auc:0.875718\n",
      "[347]\tvalidation_0-auc:0.875779\n",
      "[348]\tvalidation_0-auc:0.875806\n",
      "[349]\tvalidation_0-auc:0.876030\n"
     ]
    },
    {
     "data": {
      "text/plain": [
       "XGBClassifier(base_score=0.5, colsample_bylevel=1, colsample_bytree=0.85,\n",
       "       gamma=0, learning_rate=0.03, max_delta_step=0, max_depth=5,\n",
       "       min_child_weight=1, missing=None, n_estimators=350, nthread=4,\n",
       "       objective='binary:logistic', reg_alpha=0, reg_lambda=1,\n",
       "       scale_pos_weight=1, seed=4242, silent=True, subsample=0.95)"
      ]
     },
     "execution_count": 167,
     "metadata": {},
     "output_type": "execute_result"
    }
   ],
   "source": [
    "# fitting\n",
    "clf.fit(X_train, y_train, early_stopping_rounds=20, \n",
    "        eval_metric=\"auc\", eval_set=[(X_eval, y_eval)])"
   ]
  },
  {
   "cell_type": "code",
   "execution_count": 172,
   "metadata": {
    "collapsed": false
   },
   "outputs": [
    {
     "name": "stdout",
     "output_type": "stream",
     "text": [
      "('Overall AUC:', 0.88249734213757924)\n"
     ]
    }
   ],
   "source": [
    "print('Overall AUC:', roc_auc_score(y_train, clf.predict_proba(X_train)[:,1]))"
   ]
  },
  {
   "cell_type": "code",
   "execution_count": 173,
   "metadata": {
    "collapsed": false
   },
   "outputs": [],
   "source": [
    "# predicting\n",
    "y_pred= clf.predict_proba(X_test)[:,1]"
   ]
  },
  {
   "cell_type": "code",
   "execution_count": 174,
   "metadata": {
    "collapsed": true
   },
   "outputs": [],
   "source": [
    "submission = pd.DataFrame({\"ID\":id_test, \"TARGET\":y_pred})\n",
    "submission.to_csv(\"submission89.csv\", index=False)"
   ]
  },
  {
   "cell_type": "code",
   "execution_count": 171,
   "metadata": {
    "collapsed": false
   },
   "outputs": [
    {
     "data": {
      "text/plain": [
       "'\\nADDITIONAL FUNCTIONS FOR FEATURE ENGINEERING\\n==============================================================\\nimport pickle\\nto_save = {\\n    \"sum_of_0\":df_train[\\'sum_of_0\\']\\n}\\npickle.dump(to_save, open(\\'my_features.pickle\\',\\'a\\'))\\n===============================================================\\n#NAME: ADD SUM OF 0\\'S\\n# select on the features, leaving out the \\'TARGET\\' feature\\n\\n\\nfeatures = [f for f in df_train.columns if f != \\'TARGET\\' and f!=\\'ID\\' ]\\n\\ndef calculate_zeros(cols):\\n    sum_array = [] \\n    for value in cols:\\n        if value == 0:\\n            sum_array.append(value)\\n    return len(sum_array)\\n\\ndf_train[\\'sum_of_0\\'] = df_train[features].apply(calculate_zeros, axis=1)\\n\\n===============================================================\\n\\n# remove duplicated columns\\nremove = []\\nc = df_train.columns\\nfor i in range(len(c)-1):\\n    v = df_train[c[i]].values\\n    for j in range(i+1, len(c)):\\n        if np.array_equal(v, df_train[c[j]].values):\\n            remove.append(c[j])\\n\\ndf_train.drop(remove, axis=1, inplace=True)\\ndf_test.drop(remove, axis=1, inplace=True)\\n\\n================================================================\\n\\n# remove constant columns\\nremove = []\\nfor col in df_train.columns:\\n    if df_train[col].std() == 0:\\n        remove.append(col)\\n================================================================\\n\\ndef fix_nationality(nat):\\n    for value in nat:\\n        if value == -999999:\\n            return 2\\n        else:\\n            return value\\n\\ndf_train[\\'var3\\'] = df_train[[\\'var3\\']].apply(fix_nationality, axis=1)\\n\\n\\n'"
      ]
     },
     "execution_count": 171,
     "metadata": {},
     "output_type": "execute_result"
    }
   ],
   "source": [
    "'''\n",
    "ADDITIONAL FUNCTIONS FOR FEATURE ENGINEERING\n",
    "==============================================================\n",
    "import pickle\n",
    "to_save = {\n",
    "    \"sum_of_0\":df_train['sum_of_0']\n",
    "}\n",
    "pickle.dump(to_save, open('my_features.pickle','a'))\n",
    "===============================================================\n",
    "#NAME: ADD SUM OF 0'S\n",
    "# select on the features, leaving out the 'TARGET' feature\n",
    "\n",
    "\n",
    "features = [f for f in df_train.columns if f != 'TARGET' and f!='ID' ]\n",
    "\n",
    "def calculate_zeros(cols):\n",
    "    sum_array = [] \n",
    "    for value in cols:\n",
    "        if value == 0:\n",
    "            sum_array.append(value)\n",
    "    return len(sum_array)\n",
    "\n",
    "df_train['sum_of_0'] = df_train[features].apply(calculate_zeros, axis=1)\n",
    "\n",
    "===============================================================\n",
    "\n",
    "# remove duplicated columns\n",
    "remove = []\n",
    "c = df_train.columns\n",
    "for i in range(len(c)-1):\n",
    "    v = df_train[c[i]].values\n",
    "    for j in range(i+1, len(c)):\n",
    "        if np.array_equal(v, df_train[c[j]].values):\n",
    "            remove.append(c[j])\n",
    "\n",
    "df_train.drop(remove, axis=1, inplace=True)\n",
    "df_test.drop(remove, axis=1, inplace=True)\n",
    "\n",
    "================================================================\n",
    "\n",
    "# remove constant columns\n",
    "remove = []\n",
    "for col in df_train.columns:\n",
    "    if df_train[col].std() == 0:\n",
    "        remove.append(col)\n",
    "================================================================\n",
    "\n",
    "def fix_nationality(nat):\n",
    "    for value in nat:\n",
    "        if value == -999999:\n",
    "            return 2\n",
    "        else:\n",
    "            return value\n",
    "\n",
    "df_train['var3'] = df_train[['var3']].apply(fix_nationality, axis=1)\n",
    "\n",
    "\n",
    "'''"
   ]
  }
 ],
 "metadata": {
  "kernelspec": {
   "display_name": "Python 2",
   "language": "python",
   "name": "python2"
  },
  "language_info": {
   "codemirror_mode": {
    "name": "ipython",
    "version": 2
   },
   "file_extension": ".py",
   "mimetype": "text/x-python",
   "name": "python",
   "nbconvert_exporter": "python",
   "pygments_lexer": "ipython2",
   "version": "2.7.11"
  }
 },
 "nbformat": 4,
 "nbformat_minor": 0
}
