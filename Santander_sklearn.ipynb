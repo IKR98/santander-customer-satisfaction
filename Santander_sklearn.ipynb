{
 "cells": [
  {
   "cell_type": "code",
   "execution_count": 1,
   "metadata": {
    "collapsed": false
   },
   "outputs": [],
   "source": [
    "from __future__ import division\n",
    "\n",
    "import matplotlib.pyplot as plt\n",
    "import numpy as np\n",
    "import pandas as pd\n",
    "import xgboost as xgb\n",
    "from sklearn.cross_validation import train_test_split\n",
    "from sklearn.ensemble import RandomForestClassifier\n",
    "from sklearn.metrics import roc_auc_score\n",
    "from sklearn.pipeline import Pipeline\n",
    "from sklearn.svm import OneClassSVM"
   ]
  },
  {
   "cell_type": "code",
   "execution_count": 2,
   "metadata": {
    "collapsed": true
   },
   "outputs": [],
   "source": [
    "# load the data\n",
    "df_train = pd.read_csv('train.csv/train.csv')\n",
    "df_test = pd.read_csv('test.csv/test.csv')"
   ]
  },
  {
   "cell_type": "code",
   "execution_count": 3,
   "metadata": {
    "collapsed": true
   },
   "outputs": [],
   "source": [
    "# remove constant columns\n",
    "remove = []\n",
    "for col in df_train.columns:\n",
    "    if df_train[col].std() == 0:\n",
    "        remove.append(col)"
   ]
  },
  {
   "cell_type": "code",
   "execution_count": 4,
   "metadata": {
    "collapsed": true
   },
   "outputs": [],
   "source": [
    "df_train.drop(remove, axis=1, inplace=True)\n",
    "df_test.drop(remove, axis=1, inplace=True)"
   ]
  },
  {
   "cell_type": "code",
   "execution_count": 27,
   "metadata": {
    "collapsed": false
   },
   "outputs": [
    {
     "data": {
      "text/plain": [
       "array([0, 0, 0, ..., 0, 0, 0])"
      ]
     },
     "execution_count": 27,
     "metadata": {},
     "output_type": "execute_result"
    }
   ],
   "source": [
    "df_train['TARGET'].values"
   ]
  },
  {
   "cell_type": "code",
   "execution_count": 5,
   "metadata": {
    "collapsed": true
   },
   "outputs": [],
   "source": [
    "#prepare data for model\n",
    "y_train = df_train['TARGET'].values\n",
    "X_train = df_train.drop(['ID','TARGET'], axis=1).values"
   ]
  },
  {
   "cell_type": "code",
   "execution_count": 9,
   "metadata": {
    "collapsed": false
   },
   "outputs": [],
   "source": [
    "id_test = df_test['ID']\n",
    "X_test = df_test.drop(['ID'], axis=1).values"
   ]
  },
  {
   "cell_type": "code",
   "execution_count": 10,
   "metadata": {
    "collapsed": true
   },
   "outputs": [],
   "source": [
    "# classifier\n",
    "clf = xgb.XGBClassifier(missing=np.nan, max_depth=5, n_estimators=350, \n",
    "                        learning_rate=0.03, nthread=4, subsample=0.95, \n",
    "                        colsample_bytree=0.85, seed=4242)"
   ]
  },
  {
   "cell_type": "code",
   "execution_count": 11,
   "metadata": {
    "collapsed": true
   },
   "outputs": [],
   "source": [
    "X_fit, X_eval, y_fit, y_eval= train_test_split(X_train, y_train, test_size=0.3)"
   ]
  },
  {
   "cell_type": "code",
   "execution_count": 12,
   "metadata": {
    "collapsed": false
   },
   "outputs": [
    {
     "name": "stderr",
     "output_type": "stream",
     "text": [
      "Will train until validation_0 error hasn't decreased in 20 rounds.\n",
      "[0]\tvalidation_0-auc:0.817908\n",
      "[1]\tvalidation_0-auc:0.819647\n",
      "[2]\tvalidation_0-auc:0.819267\n",
      "[3]\tvalidation_0-auc:0.820721\n",
      "[4]\tvalidation_0-auc:0.808922\n",
      "[5]\tvalidation_0-auc:0.812752\n",
      "[6]\tvalidation_0-auc:0.813505\n",
      "[7]\tvalidation_0-auc:0.814464\n",
      "[8]\tvalidation_0-auc:0.814879\n",
      "[9]\tvalidation_0-auc:0.814983\n",
      "[10]\tvalidation_0-auc:0.809959\n",
      "[11]\tvalidation_0-auc:0.809572\n",
      "[12]\tvalidation_0-auc:0.810201\n",
      "[13]\tvalidation_0-auc:0.811047\n",
      "[14]\tvalidation_0-auc:0.809826\n",
      "[15]\tvalidation_0-auc:0.811432\n",
      "[16]\tvalidation_0-auc:0.807852\n",
      "[17]\tvalidation_0-auc:0.808929\n",
      "[18]\tvalidation_0-auc:0.810947\n",
      "[19]\tvalidation_0-auc:0.809815\n",
      "[20]\tvalidation_0-auc:0.810504\n",
      "[21]\tvalidation_0-auc:0.810153\n",
      "[22]\tvalidation_0-auc:0.810929\n",
      "[23]\tvalidation_0-auc:0.810595\n",
      "Stopping. Best iteration:\n",
      "[3]\tvalidation_0-auc:0.820721\n",
      "\n"
     ]
    },
    {
     "data": {
      "text/plain": [
       "XGBClassifier(base_score=0.5, colsample_bylevel=1, colsample_bytree=0.85,\n",
       "       gamma=0, learning_rate=0.03, max_delta_step=0, max_depth=5,\n",
       "       min_child_weight=1, missing=None, n_estimators=350, nthread=4,\n",
       "       objective='binary:logistic', reg_alpha=0, reg_lambda=1,\n",
       "       scale_pos_weight=1, seed=4242, silent=True, subsample=0.95)"
      ]
     },
     "execution_count": 12,
     "metadata": {},
     "output_type": "execute_result"
    }
   ],
   "source": [
    "# fitting\n",
    "clf.fit(X_train, y_train, early_stopping_rounds=20, \n",
    "        eval_metric=\"auc\", eval_set=[(X_eval, y_eval)])"
   ]
  },
  {
   "cell_type": "code",
   "execution_count": 13,
   "metadata": {
    "collapsed": false
   },
   "outputs": [
    {
     "name": "stdout",
     "output_type": "stream",
     "text": [
      "('Overall AUC:', 0.83922943918574733)\n"
     ]
    }
   ],
   "source": [
    "print('Overall AUC:', roc_auc_score(y_train, clf.predict_proba(X_train)[:,1]))"
   ]
  },
  {
   "cell_type": "code",
   "execution_count": 24,
   "metadata": {
    "collapsed": false
   },
   "outputs": [],
   "source": [
    "# predicting\n",
    "y_pred= clf.predict_proba(X_test)[:,1]"
   ]
  },
  {
   "cell_type": "code",
   "execution_count": 25,
   "metadata": {
    "collapsed": false
   },
   "outputs": [
    {
     "data": {
      "text/plain": [
       "array([ 0.26126292,  0.26583791,  0.24533668, ...,  0.24521795,\n",
       "        0.27286133,  0.24499308], dtype=float32)"
      ]
     },
     "execution_count": 25,
     "metadata": {},
     "output_type": "execute_result"
    }
   ],
   "source": [
    "y_pred"
   ]
  },
  {
   "cell_type": "code",
   "execution_count": 26,
   "metadata": {
    "collapsed": true
   },
   "outputs": [],
   "source": [
    "submission = pd.DataFrame({\"ID\":id_test, \"TARGET\":y_pred})\n",
    "submission.to_csv(\"submission5.csv\", index=False)"
   ]
  }
 ],
 "metadata": {
  "kernelspec": {
   "display_name": "Python 2",
   "language": "python",
   "name": "python2"
  },
  "language_info": {
   "codemirror_mode": {
    "name": "ipython",
    "version": 2
   },
   "file_extension": ".py",
   "mimetype": "text/x-python",
   "name": "python",
   "nbconvert_exporter": "python",
   "pygments_lexer": "ipython2",
   "version": "2.7.11"
  }
 },
 "nbformat": 4,
 "nbformat_minor": 0
}
