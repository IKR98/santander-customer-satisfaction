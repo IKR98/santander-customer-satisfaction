{
 "cells": [
  {
   "cell_type": "code",
   "execution_count": 326,
   "metadata": {
    "collapsed": false
   },
   "outputs": [],
   "source": [
    "import graphlab as gl\n",
    "\n",
    "#needed for charts\n",
    "import matplotlib.pyplot as plt\n",
    "%matplotlib inline"
   ]
  },
  {
   "cell_type": "markdown",
   "metadata": {},
   "source": [
    "# Loading Data"
   ]
  },
  {
   "cell_type": "code",
   "execution_count": 327,
   "metadata": {
    "collapsed": false
   },
   "outputs": [
    {
     "data": {
      "text/html": [
       "<pre>Finished parsing file /home/ellfae/Dropbox/MyResearch/kaggle/Santander customer satisfaction/train.csv/train.csv</pre>"
      ],
      "text/plain": [
       "Finished parsing file /home/ellfae/Dropbox/MyResearch/kaggle/Santander customer satisfaction/train.csv/train.csv"
      ]
     },
     "metadata": {},
     "output_type": "display_data"
    },
    {
     "data": {
      "text/html": [
       "<pre>Parsing completed. Parsed 100 lines in 4.14828 secs.</pre>"
      ],
      "text/plain": [
       "Parsing completed. Parsed 100 lines in 4.14828 secs."
      ]
     },
     "metadata": {},
     "output_type": "display_data"
    },
    {
     "name": "stdout",
     "output_type": "stream",
     "text": [
      "------------------------------------------------------\n",
      "Inferred types from first line of file as \n",
      "column_type_hints=[int,int,int,int,float,float,float,float,int,int,float,float,float,int,int,float,int,int,float,int,int,int,int,int,int,int,int,int,int,int,int,int,int,int,int,int,int,int,int,int,int,int,int,int,int,int,int,int,int,int,int,int,int,int,int,int,int,int,int,int,int,int,int,int,int,int,int,int,int,int,int,int,int,int,int,int,int,int,int,int,int,int,int,int,int,int,int,int,int,int,int,int,int,int,int,int,int,int,int,int,int,int,int,int,int,int,int,int,int,int,int,int,int,int,int,int,int,int,int,int,int,int,int,int,int,int,int,int,int,int,int,int,int,int,int,int,int,int,int,int,int,int,int,int,int,int,int,int,int,int,int,int,int,int,int,int,int,int,int,int,int,int,int,int,float,float,int,float,float,int,int,int,int,int,float,int,float,float,float,float,int,int,int,float,float,int,int,int,float,float,int,float,int,int,int,int,int,int,int,int,int,int,int,int,int,int,int,int,int,int,int,int,int,int,int,int,int,int,int,int,int,int,int,int,int,int,int,int,int,int,int,int,int,int,int,int,int,int,int,int,int,float,float,int,int,int,int,int,int,int,int,int,int,int,int,int,int,int,int,int,int,int,int,int,int,int,int,int,int,int,int,int,int,int,int,int,int,int,int,int,int,int,int,int,int,int,int,int,int,int,int,int,int,int,int,int,int,int,int,int,int,int,int,int,int,int,int,int,int,int,int,int,int,int,int,int,int,int,int,int,int,int,int,int,int,int,int,int,int,float,float,float,float,float,float,float,float,float,int,float,float,float,float,int,float,int,int,int,int,int,int,int,int,float,int,float,float,int,int,int,int,int,int,int,int,int,int,int,int,float,int]\n",
      "If parsing fails due to incorrect types, you can correct\n",
      "the inferred type list above and pass it to read_csv in\n",
      "the column_type_hints argument\n",
      "------------------------------------------------------\n"
     ]
    },
    {
     "data": {
      "text/html": [
       "<pre>Read 67150 lines. Lines per second: 10279</pre>"
      ],
      "text/plain": [
       "Read 67150 lines. Lines per second: 10279"
      ]
     },
     "metadata": {},
     "output_type": "display_data"
    },
    {
     "data": {
      "text/html": [
       "<pre>Finished parsing file /home/ellfae/Dropbox/MyResearch/kaggle/Santander customer satisfaction/train.csv/train.csv</pre>"
      ],
      "text/plain": [
       "Finished parsing file /home/ellfae/Dropbox/MyResearch/kaggle/Santander customer satisfaction/train.csv/train.csv"
      ]
     },
     "metadata": {},
     "output_type": "display_data"
    },
    {
     "data": {
      "text/html": [
       "<pre>Parsing completed. Parsed 76020 lines in 6.88124 secs.</pre>"
      ],
      "text/plain": [
       "Parsing completed. Parsed 76020 lines in 6.88124 secs."
      ]
     },
     "metadata": {},
     "output_type": "display_data"
    },
    {
     "data": {
      "text/html": [
       "<pre>Finished parsing file /home/ellfae/Dropbox/MyResearch/kaggle/Santander customer satisfaction/test.csv/test.csv</pre>"
      ],
      "text/plain": [
       "Finished parsing file /home/ellfae/Dropbox/MyResearch/kaggle/Santander customer satisfaction/test.csv/test.csv"
      ]
     },
     "metadata": {},
     "output_type": "display_data"
    },
    {
     "data": {
      "text/html": [
       "<pre>Parsing completed. Parsed 100 lines in 2.26416 secs.</pre>"
      ],
      "text/plain": [
       "Parsing completed. Parsed 100 lines in 2.26416 secs."
      ]
     },
     "metadata": {},
     "output_type": "display_data"
    },
    {
     "name": "stdout",
     "output_type": "stream",
     "text": [
      "------------------------------------------------------\n",
      "Inferred types from first line of file as \n",
      "column_type_hints=[int,int,int,int,float,float,int,int,int,int,int,float,float,float,float,float,float,float,float,int,int,int,int,int,int,int,int,int,int,int,int,int,int,int,int,int,int,int,int,int,int,int,int,int,int,int,int,int,int,int,int,int,int,int,int,int,int,int,int,int,int,int,int,int,int,int,int,int,int,int,int,int,int,int,int,int,int,int,int,int,int,int,int,int,int,int,int,int,int,int,int,int,int,int,int,int,int,int,int,int,int,int,int,int,int,int,int,int,int,int,int,int,int,int,int,int,int,int,int,int,int,int,int,int,int,int,int,int,int,int,int,int,int,int,int,int,int,int,int,int,int,int,int,int,int,int,int,int,int,int,int,int,int,int,int,int,int,int,int,int,int,int,int,int,int,float,int,float,float,float,int,int,float,int,int,int,int,float,float,float,int,int,int,float,float,float,float,int,float,int,int,float,int,int,int,int,int,int,int,int,int,int,int,int,int,int,int,int,int,int,int,int,int,int,int,int,int,int,int,int,int,int,int,int,int,int,int,int,int,int,int,int,int,int,int,int,int,int,int,int,int,int,float,int,int,int,int,int,int,int,int,int,int,int,int,int,int,int,int,int,int,int,int,int,int,int,int,int,int,int,int,int,int,int,int,int,int,int,int,int,int,int,int,int,int,int,int,int,int,int,int,int,int,int,int,int,int,int,int,int,int,int,int,int,int,int,int,int,int,int,int,int,int,int,int,int,int,int,int,int,int,int,int,int,int,int,int,int,int,float,float,float,float,int,float,float,float,float,float,float,float,float,float,float,float,int,int,int,int,int,int,int,int,int,int,int,int,int,int,int,int,float,int,int,float,int,int,int,int,float]\n",
      "If parsing fails due to incorrect types, you can correct\n",
      "the inferred type list above and pass it to read_csv in\n",
      "the column_type_hints argument\n",
      "------------------------------------------------------\n"
     ]
    },
    {
     "data": {
      "text/html": [
       "<pre>Read 67325 lines. Lines per second: 13397.8</pre>"
      ],
      "text/plain": [
       "Read 67325 lines. Lines per second: 13397.8"
      ]
     },
     "metadata": {},
     "output_type": "display_data"
    },
    {
     "data": {
      "text/html": [
       "<pre>Finished parsing file /home/ellfae/Dropbox/MyResearch/kaggle/Santander customer satisfaction/test.csv/test.csv</pre>"
      ],
      "text/plain": [
       "Finished parsing file /home/ellfae/Dropbox/MyResearch/kaggle/Santander customer satisfaction/test.csv/test.csv"
      ]
     },
     "metadata": {},
     "output_type": "display_data"
    },
    {
     "data": {
      "text/html": [
       "<pre>Parsing completed. Parsed 75818 lines in 5.63319 secs.</pre>"
      ],
      "text/plain": [
       "Parsing completed. Parsed 75818 lines in 5.63319 secs."
      ]
     },
     "metadata": {},
     "output_type": "display_data"
    }
   ],
   "source": [
    "# loading the train and test data\n",
    "customers = gl.SFrame('train.csv/train.csv')\n",
    "test_sframe = gl.SFrame('test.csv/test.csv')"
   ]
  },
  {
   "cell_type": "markdown",
   "metadata": {},
   "source": [
    "# Exploring the Data"
   ]
  },
  {
   "cell_type": "code",
   "execution_count": 328,
   "metadata": {
    "collapsed": false
   },
   "outputs": [],
   "source": [
    "#gl.canvas.set_target('ipynb')\n",
    "#customers['TARGET'].show(view='Categorical')\n",
    "#customers.head().show()"
   ]
  },
  {
   "cell_type": "markdown",
   "metadata": {},
   "source": [
    "# Pre-processing"
   ]
  },
  {
   "cell_type": "code",
   "execution_count": 329,
   "metadata": {
    "collapsed": false
   },
   "outputs": [
    {
     "name": "stdout",
     "output_type": "stream",
     "text": [
      "371\n"
     ]
    }
   ],
   "source": [
    "print customers.num_columns()"
   ]
  },
  {
   "cell_type": "markdown",
   "metadata": {},
   "source": [
    "## Removing constant columns"
   ]
  },
  {
   "cell_type": "code",
   "execution_count": 330,
   "metadata": {
    "collapsed": false
   },
   "outputs": [
    {
     "data": {
      "text/plain": [
       "337"
      ]
     },
     "execution_count": 330,
     "metadata": {},
     "output_type": "execute_result"
    }
   ],
   "source": [
    "#remove all columns with constant columns; where STD == 0\n",
    "remove = []\n",
    "\n",
    "for col in customers.column_names():\n",
    "    if customers[col].std() == 0:\n",
    "        remove.append(col)\n",
    "\n",
    "customers.remove_columns(remove)\n",
    "customers.num_columns()"
   ]
  },
  {
   "cell_type": "code",
   "execution_count": 331,
   "metadata": {
    "collapsed": false
   },
   "outputs": [
    {
     "name": "stdout",
     "output_type": "stream",
     "text": [
      "['ind_var2_0', 'ind_var2', 'ind_var27_0', 'ind_var28_0', 'ind_var28', 'ind_var27', 'ind_var41', 'ind_var46_0', 'ind_var46', 'num_var27_0', 'num_var28_0', 'num_var28', 'num_var27', 'num_var41', 'num_var46_0', 'num_var46', 'saldo_var28', 'saldo_var27', 'saldo_var41', 'saldo_var46', 'imp_amort_var18_hace3', 'imp_amort_var34_hace3', 'imp_reemb_var13_hace3', 'imp_reemb_var33_hace3', 'imp_trasp_var17_out_hace3', 'imp_trasp_var33_out_hace3', 'num_var2_0_ult1', 'num_var2_ult1', 'num_reemb_var13_hace3', 'num_reemb_var33_hace3', 'num_trasp_var17_out_hace3', 'num_trasp_var33_out_hace3', 'saldo_var2_ult1', 'saldo_medio_var13_medio_hace3']\n"
     ]
    }
   ],
   "source": [
    "print remove"
   ]
  },
  {
   "cell_type": "markdown",
   "metadata": {},
   "source": [
    "## Removing duplicated columns (too slow!!!)"
   ]
  },
  {
   "cell_type": "code",
   "execution_count": 332,
   "metadata": {
    "collapsed": false
   },
   "outputs": [
    {
     "name": "stdout",
     "output_type": "stream",
     "text": [
      "308\n"
     ]
    }
   ],
   "source": [
    "#computed on kaggle\n",
    "remove_duplicated = ['ind_var29_0', 'ind_var29', 'ind_var13_medio', 'ind_var18', 'ind_var26', \n",
    "                     'ind_var25', 'ind_var32', 'ind_var34', 'ind_var37', 'ind_var39', 'num_var29_0', \n",
    "                     'num_var29', 'num_var13_medio', 'num_var18', 'num_var26', 'num_var25', 'num_var32', \n",
    "                     'num_var34', 'num_var37', 'num_var39', 'saldo_var29', 'saldo_medio_var13_medio_ult1', \n",
    "                     'delta_num_reemb_var13_1y3', 'delta_num_reemb_var17_1y3', 'delta_num_reemb_var33_1y3', \n",
    "                     'delta_num_trasp_var17_in_1y3', 'delta_num_trasp_var17_out_1y3', \n",
    "                     'delta_num_trasp_var33_in_1y3', 'delta_num_trasp_var33_out_1y3']\n",
    "\n",
    "customers.remove_columns(remove_duplicated)\n",
    "print customers.num_columns()"
   ]
  },
  {
   "cell_type": "markdown",
   "metadata": {},
   "source": [
    "## Add sum of 0's"
   ]
  },
  {
   "cell_type": "code",
   "execution_count": 333,
   "metadata": {
    "collapsed": false
   },
   "outputs": [],
   "source": [
    "# select on the features, leaving out the 'TARGET' feature\n",
    "features = [f for f in customers.column_names() if f != 'TARGET']\n",
    "\n",
    "## NOTE: Causes overfitting (need to study why)\n",
    "# add the sum of 0's\n",
    "customers['sum_of_0'] = customers[features].apply(lambda x: len([i for i in x.values() if i != 0]))"
   ]
  },
  {
   "cell_type": "markdown",
   "metadata": {},
   "source": [
    "## Remove columns suggested from mini-classifiers"
   ]
  },
  {
   "cell_type": "code",
   "execution_count": 334,
   "metadata": {
    "collapsed": false
   },
   "outputs": [
    {
     "data": {
      "text/plain": [
       "<bound method SFrame.remove_columns of Columns:\n",
       "\tID\tint\n",
       "\tvar3\tint\n",
       "\tvar15\tint\n",
       "\timp_ent_var16_ult1\tint\n",
       "\timp_op_var39_comer_ult1\tfloat\n",
       "\timp_op_var39_comer_ult3\tfloat\n",
       "\timp_op_var40_comer_ult1\tfloat\n",
       "\timp_op_var40_comer_ult3\tfloat\n",
       "\timp_op_var40_efect_ult1\tint\n",
       "\timp_op_var40_efect_ult3\tint\n",
       "\timp_op_var40_ult1\tfloat\n",
       "\timp_op_var41_comer_ult1\tfloat\n",
       "\timp_op_var41_comer_ult3\tfloat\n",
       "\timp_op_var41_efect_ult1\tint\n",
       "\timp_op_var41_efect_ult3\tint\n",
       "\timp_op_var41_ult1\tfloat\n",
       "\timp_op_var39_efect_ult1\tint\n",
       "\timp_op_var39_efect_ult3\tint\n",
       "\timp_op_var39_ult1\tfloat\n",
       "\timp_sal_var16_ult1\tint\n",
       "\tind_var1_0\tint\n",
       "\tind_var1\tint\n",
       "\tind_var5_0\tint\n",
       "\tind_var5\tint\n",
       "\tind_var6_0\tint\n",
       "\tind_var6\tint\n",
       "\tind_var8_0\tint\n",
       "\tind_var8\tint\n",
       "\tind_var12_0\tint\n",
       "\tind_var12\tint\n",
       "\tind_var13_0\tint\n",
       "\tind_var13_corto_0\tint\n",
       "\tind_var13_corto\tint\n",
       "\tind_var13_largo_0\tint\n",
       "\tind_var13_largo\tint\n",
       "\tind_var13_medio_0\tint\n",
       "\tind_var13\tint\n",
       "\tind_var14_0\tint\n",
       "\tind_var14\tint\n",
       "\tind_var17_0\tint\n",
       "\tind_var17\tint\n",
       "\tind_var18_0\tint\n",
       "\tind_var19\tint\n",
       "\tind_var20_0\tint\n",
       "\tind_var20\tint\n",
       "\tind_var24_0\tint\n",
       "\tind_var24\tint\n",
       "\tind_var25_cte\tint\n",
       "\tind_var26_0\tint\n",
       "\tind_var26_cte\tint\n",
       "\tind_var25_0\tint\n",
       "\tind_var30_0\tint\n",
       "\tind_var30\tint\n",
       "\tind_var31_0\tint\n",
       "\tind_var31\tint\n",
       "\tind_var32_cte\tint\n",
       "\tind_var32_0\tint\n",
       "\tind_var33_0\tint\n",
       "\tind_var33\tint\n",
       "\tind_var34_0\tint\n",
       "\tind_var37_cte\tint\n",
       "\tind_var37_0\tint\n",
       "\tind_var39_0\tint\n",
       "\tind_var40_0\tint\n",
       "\tind_var40\tint\n",
       "\tind_var41_0\tint\n",
       "\tind_var44_0\tint\n",
       "\tind_var44\tint\n",
       "\tnum_var1_0\tint\n",
       "\tnum_var1\tint\n",
       "\tnum_var4\tint\n",
       "\tnum_var5_0\tint\n",
       "\tnum_var5\tint\n",
       "\tnum_var6_0\tint\n",
       "\tnum_var6\tint\n",
       "\tnum_var8_0\tint\n",
       "\tnum_var8\tint\n",
       "\tnum_var12_0\tint\n",
       "\tnum_var12\tint\n",
       "\tnum_var13_0\tint\n",
       "\tnum_var13_corto_0\tint\n",
       "\tnum_var13_corto\tint\n",
       "\tnum_var13_largo_0\tint\n",
       "\tnum_var13_largo\tint\n",
       "\tnum_var13_medio_0\tint\n",
       "\tnum_var13\tint\n",
       "\tnum_var14_0\tint\n",
       "\tnum_var14\tint\n",
       "\tnum_var17_0\tint\n",
       "\tnum_var17\tint\n",
       "\tnum_var18_0\tint\n",
       "\tnum_var20_0\tint\n",
       "\tnum_var20\tint\n",
       "\tnum_var24_0\tint\n",
       "\tnum_var24\tint\n",
       "\tnum_var26_0\tint\n",
       "\tnum_var25_0\tint\n",
       "\tnum_op_var40_hace2\tint\n",
       "\tnum_op_var40_hace3\tint\n",
       "\tnum_op_var40_ult1\tint\n",
       "\tnum_op_var40_ult3\tint\n",
       "\tnum_op_var41_hace2\tint\n",
       "\tnum_op_var41_hace3\tint\n",
       "\tnum_op_var41_ult1\tint\n",
       "\tnum_op_var41_ult3\tint\n",
       "\tnum_op_var39_hace2\tint\n",
       "\tnum_op_var39_hace3\tint\n",
       "\tnum_op_var39_ult1\tint\n",
       "\tnum_op_var39_ult3\tint\n",
       "\tnum_var30_0\tint\n",
       "\tnum_var30\tint\n",
       "\tnum_var31_0\tint\n",
       "\tnum_var31\tint\n",
       "\tnum_var32_0\tint\n",
       "\tnum_var33_0\tint\n",
       "\tnum_var33\tint\n",
       "\tnum_var34_0\tint\n",
       "\tnum_var35\tint\n",
       "\tnum_var37_med_ult2\tint\n",
       "\tnum_var37_0\tint\n",
       "\tnum_var39_0\tint\n",
       "\tnum_var40_0\tint\n",
       "\tnum_var40\tint\n",
       "\tnum_var41_0\tint\n",
       "\tnum_var42_0\tint\n",
       "\tnum_var42\tint\n",
       "\tnum_var44_0\tint\n",
       "\tnum_var44\tint\n",
       "\tsaldo_var1\tfloat\n",
       "\tsaldo_var5\tfloat\n",
       "\tsaldo_var6\tint\n",
       "\tsaldo_var8\tfloat\n",
       "\tsaldo_var12\tfloat\n",
       "\tsaldo_var13_corto\tint\n",
       "\tsaldo_var13_largo\tint\n",
       "\tsaldo_var13_medio\tint\n",
       "\tsaldo_var13\tint\n",
       "\tsaldo_var14\tint\n",
       "\tsaldo_var17\tfloat\n",
       "\tsaldo_var18\tint\n",
       "\tsaldo_var20\tfloat\n",
       "\tsaldo_var24\tfloat\n",
       "\tsaldo_var26\tfloat\n",
       "\tsaldo_var25\tfloat\n",
       "\tsaldo_var30\tfloat\n",
       "\tsaldo_var31\tfloat\n",
       "\tsaldo_var32\tint\n",
       "\tsaldo_var33\tint\n",
       "\tsaldo_var34\tint\n",
       "\tsaldo_var37\tfloat\n",
       "\tsaldo_var40\tfloat\n",
       "\tsaldo_var42\tfloat\n",
       "\tsaldo_var44\tint\n",
       "\tvar36\tint\n",
       "\tdelta_imp_amort_var18_1y3\tint\n",
       "\tdelta_imp_amort_var34_1y3\tint\n",
       "\tdelta_imp_aport_var13_1y3\tint\n",
       "\tdelta_imp_aport_var17_1y3\tint\n",
       "\tdelta_imp_aport_var33_1y3\tint\n",
       "\tdelta_imp_compra_var44_1y3\tint\n",
       "\tdelta_imp_reemb_var13_1y3\tint\n",
       "\tdelta_imp_reemb_var17_1y3\tint\n",
       "\tdelta_imp_reemb_var33_1y3\tint\n",
       "\tdelta_imp_trasp_var17_in_1y3\tint\n",
       "\tdelta_imp_trasp_var17_out_1y3\tint\n",
       "\tdelta_imp_trasp_var33_in_1y3\tint\n",
       "\tdelta_imp_trasp_var33_out_1y3\tint\n",
       "\tdelta_imp_venta_var44_1y3\tint\n",
       "\tdelta_num_aport_var13_1y3\tint\n",
       "\tdelta_num_aport_var17_1y3\tint\n",
       "\tdelta_num_aport_var33_1y3\tint\n",
       "\tdelta_num_compra_var44_1y3\tint\n",
       "\tdelta_num_venta_var44_1y3\tint\n",
       "\timp_amort_var18_ult1\tint\n",
       "\timp_amort_var34_ult1\tint\n",
       "\timp_aport_var13_hace3\tint\n",
       "\timp_aport_var13_ult1\tint\n",
       "\timp_aport_var17_hace3\tint\n",
       "\timp_aport_var17_ult1\tint\n",
       "\timp_aport_var33_hace3\tint\n",
       "\timp_aport_var33_ult1\tint\n",
       "\timp_var7_emit_ult1\tint\n",
       "\timp_var7_recib_ult1\tint\n",
       "\timp_compra_var44_hace3\tint\n",
       "\timp_compra_var44_ult1\tint\n",
       "\timp_reemb_var13_ult1\tint\n",
       "\timp_reemb_var17_hace3\tint\n",
       "\timp_reemb_var17_ult1\tint\n",
       "\timp_reemb_var33_ult1\tint\n",
       "\timp_var43_emit_ult1\tfloat\n",
       "\timp_trans_var37_ult1\tfloat\n",
       "\timp_trasp_var17_in_hace3\tint\n",
       "\timp_trasp_var17_in_ult1\tint\n",
       "\timp_trasp_var17_out_ult1\tint\n",
       "\timp_trasp_var33_in_hace3\tint\n",
       "\timp_trasp_var33_in_ult1\tint\n",
       "\timp_trasp_var33_out_ult1\tint\n",
       "\timp_venta_var44_hace3\tint\n",
       "\timp_venta_var44_ult1\tint\n",
       "\tind_var7_emit_ult1\tint\n",
       "\tind_var7_recib_ult1\tint\n",
       "\tind_var10_ult1\tint\n",
       "\tind_var10cte_ult1\tint\n",
       "\tind_var9_cte_ult1\tint\n",
       "\tind_var9_ult1\tint\n",
       "\tind_var43_emit_ult1\tint\n",
       "\tind_var43_recib_ult1\tint\n",
       "\tvar21\tint\n",
       "\tnum_aport_var13_hace3\tint\n",
       "\tnum_aport_var13_ult1\tint\n",
       "\tnum_aport_var17_hace3\tint\n",
       "\tnum_aport_var17_ult1\tint\n",
       "\tnum_aport_var33_hace3\tint\n",
       "\tnum_aport_var33_ult1\tint\n",
       "\tnum_var7_emit_ult1\tint\n",
       "\tnum_var7_recib_ult1\tint\n",
       "\tnum_compra_var44_hace3\tint\n",
       "\tnum_compra_var44_ult1\tint\n",
       "\tnum_ent_var16_ult1\tint\n",
       "\tnum_var22_hace2\tint\n",
       "\tnum_var22_hace3\tint\n",
       "\tnum_var22_ult1\tint\n",
       "\tnum_var22_ult3\tint\n",
       "\tnum_med_var22_ult3\tint\n",
       "\tnum_med_var45_ult3\tint\n",
       "\tnum_meses_var5_ult3\tint\n",
       "\tnum_meses_var8_ult3\tint\n",
       "\tnum_meses_var12_ult3\tint\n",
       "\tnum_meses_var13_corto_ult3\tint\n",
       "\tnum_meses_var13_largo_ult3\tint\n",
       "\tnum_meses_var13_medio_ult3\tint\n",
       "\tnum_meses_var17_ult3\tint\n",
       "\tnum_meses_var29_ult3\tint\n",
       "\tnum_meses_var33_ult3\tint\n",
       "\tnum_meses_var39_vig_ult3\tint\n",
       "\tnum_meses_var44_ult3\tint\n",
       "\tnum_op_var39_comer_ult1\tint\n",
       "\tnum_op_var39_comer_ult3\tint\n",
       "\tnum_op_var40_comer_ult1\tint\n",
       "\tnum_op_var40_comer_ult3\tint\n",
       "\tnum_op_var40_efect_ult1\tint\n",
       "\tnum_op_var40_efect_ult3\tint\n",
       "\tnum_op_var41_comer_ult1\tint\n",
       "\tnum_op_var41_comer_ult3\tint\n",
       "\tnum_op_var41_efect_ult1\tint\n",
       "\tnum_op_var41_efect_ult3\tint\n",
       "\tnum_op_var39_efect_ult1\tint\n",
       "\tnum_op_var39_efect_ult3\tint\n",
       "\tnum_reemb_var13_ult1\tint\n",
       "\tnum_reemb_var17_hace3\tint\n",
       "\tnum_reemb_var17_ult1\tint\n",
       "\tnum_reemb_var33_ult1\tint\n",
       "\tnum_sal_var16_ult1\tint\n",
       "\tnum_var43_emit_ult1\tint\n",
       "\tnum_var43_recib_ult1\tint\n",
       "\tnum_trasp_var11_ult1\tint\n",
       "\tnum_trasp_var17_in_hace3\tint\n",
       "\tnum_trasp_var17_in_ult1\tint\n",
       "\tnum_trasp_var17_out_ult1\tint\n",
       "\tnum_trasp_var33_in_hace3\tint\n",
       "\tnum_trasp_var33_in_ult1\tint\n",
       "\tnum_trasp_var33_out_ult1\tint\n",
       "\tnum_venta_var44_hace3\tint\n",
       "\tnum_venta_var44_ult1\tint\n",
       "\tnum_var45_hace2\tint\n",
       "\tnum_var45_hace3\tint\n",
       "\tnum_var45_ult1\tint\n",
       "\tnum_var45_ult3\tint\n",
       "\tsaldo_medio_var5_hace2\tfloat\n",
       "\tsaldo_medio_var5_hace3\tfloat\n",
       "\tsaldo_medio_var5_ult1\tfloat\n",
       "\tsaldo_medio_var5_ult3\tfloat\n",
       "\tsaldo_medio_var8_hace2\tfloat\n",
       "\tsaldo_medio_var8_hace3\tfloat\n",
       "\tsaldo_medio_var8_ult1\tfloat\n",
       "\tsaldo_medio_var8_ult3\tfloat\n",
       "\tsaldo_medio_var12_hace2\tfloat\n",
       "\tsaldo_medio_var12_hace3\tint\n",
       "\tsaldo_medio_var12_ult1\tfloat\n",
       "\tsaldo_medio_var12_ult3\tfloat\n",
       "\tsaldo_medio_var13_corto_hace2\tfloat\n",
       "\tsaldo_medio_var13_corto_hace3\tfloat\n",
       "\tsaldo_medio_var13_corto_ult1\tint\n",
       "\tsaldo_medio_var13_corto_ult3\tfloat\n",
       "\tsaldo_medio_var13_largo_hace2\tint\n",
       "\tsaldo_medio_var13_largo_hace3\tint\n",
       "\tsaldo_medio_var13_largo_ult1\tint\n",
       "\tsaldo_medio_var13_largo_ult3\tint\n",
       "\tsaldo_medio_var13_medio_hace2\tint\n",
       "\tsaldo_medio_var13_medio_ult3\tint\n",
       "\tsaldo_medio_var17_hace2\tfloat\n",
       "\tsaldo_medio_var17_hace3\tint\n",
       "\tsaldo_medio_var17_ult1\tfloat\n",
       "\tsaldo_medio_var17_ult3\tfloat\n",
       "\tsaldo_medio_var29_hace2\tint\n",
       "\tsaldo_medio_var29_hace3\tint\n",
       "\tsaldo_medio_var29_ult1\tint\n",
       "\tsaldo_medio_var29_ult3\tint\n",
       "\tsaldo_medio_var33_hace2\tint\n",
       "\tsaldo_medio_var33_hace3\tint\n",
       "\tsaldo_medio_var33_ult1\tint\n",
       "\tsaldo_medio_var33_ult3\tint\n",
       "\tsaldo_medio_var44_hace2\tint\n",
       "\tsaldo_medio_var44_hace3\tint\n",
       "\tsaldo_medio_var44_ult1\tint\n",
       "\tsaldo_medio_var44_ult3\tint\n",
       "\tvar38\tfloat\n",
       "\tTARGET\tint\n",
       "\tsum_of_0\tint\n",
       "\n",
       "Rows: 76020\n",
       "\n",
       "Data:\n",
       "+----+------+-------+--------------------+-------------------------+-------------------------+\n",
       "| ID | var3 | var15 | imp_ent_var16_ult1 | imp_op_var39_comer_ult1 | imp_op_var39_comer_ult3 |\n",
       "+----+------+-------+--------------------+-------------------------+-------------------------+\n",
       "| 1  |  2   |   23  |         0          |           0.0           |           0.0           |\n",
       "| 3  |  2   |   34  |         0          |           0.0           |           0.0           |\n",
       "| 4  |  2   |   23  |         0          |           0.0           |           0.0           |\n",
       "| 8  |  2   |   37  |         0          |          195.0          |          195.0          |\n",
       "| 10 |  2   |   39  |         0          |           0.0           |           0.0           |\n",
       "| 13 |  2   |   23  |         0          |           0.0           |           0.0           |\n",
       "| 14 |  2   |   27  |         0          |           0.0           |           0.0           |\n",
       "| 18 |  2   |   26  |         0          |           0.0           |           0.0           |\n",
       "| 20 |  2   |   45  |         0          |           0.0           |           0.0           |\n",
       "| 23 |  2   |   25  |         0          |           0.0           |           0.0           |\n",
       "+----+------+-------+--------------------+-------------------------+-------------------------+\n",
       "+-------------------------+-------------------------+-------------------------+\n",
       "| imp_op_var40_comer_ult1 | imp_op_var40_comer_ult3 | imp_op_var40_efect_ult1 |\n",
       "+-------------------------+-------------------------+-------------------------+\n",
       "|           0.0           |           0.0           |            0            |\n",
       "|           0.0           |           0.0           |            0            |\n",
       "|           0.0           |           0.0           |            0            |\n",
       "|           0.0           |           0.0           |            0            |\n",
       "|           0.0           |           0.0           |            0            |\n",
       "|           0.0           |           0.0           |            0            |\n",
       "|           0.0           |           0.0           |            0            |\n",
       "|           0.0           |           0.0           |            0            |\n",
       "|           0.0           |           0.0           |            0            |\n",
       "|           0.0           |           0.0           |            0            |\n",
       "+-------------------------+-------------------------+-------------------------+\n",
       "+-------------------------+-------------------+-------------------------+-------------------------+\n",
       "| imp_op_var40_efect_ult3 | imp_op_var40_ult1 | imp_op_var41_comer_ult1 | imp_op_var41_comer_ult3 |\n",
       "+-------------------------+-------------------+-------------------------+-------------------------+\n",
       "|            0            |        0.0        |           0.0           |           0.0           |\n",
       "|            0            |        0.0        |           0.0           |           0.0           |\n",
       "|            0            |        0.0        |           0.0           |           0.0           |\n",
       "|            0            |        0.0        |          195.0          |          195.0          |\n",
       "|            0            |        0.0        |           0.0           |           0.0           |\n",
       "|            0            |        0.0        |           0.0           |           0.0           |\n",
       "|            0            |        0.0        |           0.0           |           0.0           |\n",
       "|            0            |        0.0        |           0.0           |           0.0           |\n",
       "|            0            |        0.0        |           0.0           |           0.0           |\n",
       "|            0            |        0.0        |           0.0           |           0.0           |\n",
       "+-------------------------+-------------------+-------------------------+-------------------------+\n",
       "+-------------------------+-------------------------+-------------------+-------------------------+\n",
       "| imp_op_var41_efect_ult1 | imp_op_var41_efect_ult3 | imp_op_var41_ult1 | imp_op_var39_efect_ult1 |\n",
       "+-------------------------+-------------------------+-------------------+-------------------------+\n",
       "|            0            |            0            |        0.0        |            0            |\n",
       "|            0            |            0            |        0.0        |            0            |\n",
       "|            0            |            0            |        0.0        |            0            |\n",
       "|            0            |            0            |       195.0       |            0            |\n",
       "|            0            |            0            |        0.0        |            0            |\n",
       "|            0            |            0            |        0.0        |            0            |\n",
       "|            0            |            0            |        0.0        |            0            |\n",
       "|            0            |            0            |        0.0        |            0            |\n",
       "|            0            |            0            |        0.0        |            0            |\n",
       "|            0            |            0            |        0.0        |            0            |\n",
       "+-------------------------+-------------------------+-------------------+-------------------------+\n",
       "+-------------------------+-------------------+--------------------+-----+\n",
       "| imp_op_var39_efect_ult3 | imp_op_var39_ult1 | imp_sal_var16_ult1 | ... |\n",
       "+-------------------------+-------------------+--------------------+-----+\n",
       "|            0            |        0.0        |         0          | ... |\n",
       "|            0            |        0.0        |         0          | ... |\n",
       "|            0            |        0.0        |         0          | ... |\n",
       "|            0            |       195.0       |         0          | ... |\n",
       "|            0            |        0.0        |         0          | ... |\n",
       "|            0            |        0.0        |         0          | ... |\n",
       "|            0            |        0.0        |         0          | ... |\n",
       "|            0            |        0.0        |         0          | ... |\n",
       "|            0            |        0.0        |         0          | ... |\n",
       "|            0            |        0.0        |         0          | ... |\n",
       "+-------------------------+-------------------+--------------------+-----+\n",
       "[76020 rows x 309 columns]\n",
       "Note: Only the head of the SFrame is printed.\n",
       "You can use print_rows(num_rows=m, num_columns=n) to print more rows and columns.>"
      ]
     },
     "execution_count": 334,
     "metadata": {},
     "output_type": "execute_result"
    }
   ],
   "source": [
    "remove_num_features = ['num_var27_0', 'num_var28_0', 'num_var28', 'num_var27', 'num_var41', 'num_var46_0', 'num_var46', 'delta_num_reemb_var33_1y3', 'num_var2_0_ult1', 'num_var2_ult1', 'num_reemb_var13_hace3', 'num_reemb_var17_hace3', 'num_reemb_var33_hace3', 'num_reemb_var33_ult1', 'num_trasp_var17_in_hace3', 'num_trasp_var17_out_hace3', 'num_trasp_var33_out_hace3']\n",
    "customers.remove_columns(remove_num_features)\n",
    "print customers.num_columns()"
   ]
  },
  {
   "cell_type": "markdown",
   "metadata": {},
   "source": [
    "## Patch missing value on var3 (assumption that it is nationality)"
   ]
  },
  {
   "cell_type": "code",
   "execution_count": 335,
   "metadata": {
    "collapsed": true
   },
   "outputs": [],
   "source": [
    "# at first only age = -999999 was considered but then we also replaced 0 with 2 and this also helped to improve result\n",
    "def fix_age(nat):\n",
    "    if nat == -999999 and nat == 0:\n",
    "        return 2\n",
    "    else:\n",
    "        return nat\n",
    "\n",
    "customers['var3'] = customers['var3'].apply(fix_age)"
   ]
  },
  {
   "cell_type": "markdown",
   "metadata": {},
   "source": [
    "## Add binary line based on var38 mean (assumption that it is mortgage)"
   ]
  },
  {
   "cell_type": "code",
   "execution_count": 336,
   "metadata": {
    "collapsed": false
   },
   "outputs": [],
   "source": [
    "#len(customers[customers['var3']==0])"
   ]
  },
  {
   "cell_type": "markdown",
   "metadata": {},
   "source": [
    "## Remove low variance features"
   ]
  },
  {
   "cell_type": "code",
   "execution_count": 337,
   "metadata": {
    "collapsed": false
   },
   "outputs": [
    {
     "data": {
      "text/plain": [
       "302"
      ]
     },
     "execution_count": 337,
     "metadata": {},
     "output_type": "execute_result"
    }
   ],
   "source": [
    "# it did improve the results a little -> 0.811884 -> 0.812585\n",
    "# These features were spitted with low variance from the classifier\n",
    "low_variance_features = ['delta_imp_reemb_var33_1y3',  'imp_reemb_var17_hace3', 'imp_reemb_var33_ult1', 'imp_trasp_var17_in_hace3', 'num_reemb_var17_hace3', 'num_reemb_var33_ult1', 'num_trasp_var17_in_hace3']\n",
    "customers.remove_columns(low_variance_features)\n",
    "customers.num_columns()"
   ]
  },
  {
   "cell_type": "code",
   "execution_count": 338,
   "metadata": {
    "collapsed": false
   },
   "outputs": [],
   "source": [
    "#customers.show()"
   ]
  },
  {
   "cell_type": "markdown",
   "metadata": {},
   "source": [
    "### Most Target are 0, which means most customers are satisfied"
   ]
  },
  {
   "cell_type": "code",
   "execution_count": 339,
   "metadata": {
    "collapsed": true
   },
   "outputs": [],
   "source": [
    "train_data, test_data = customers.random_split(.8, seed=2)"
   ]
  },
  {
   "cell_type": "markdown",
   "metadata": {},
   "source": [
    "## Train a Boosted Trees Classifier"
   ]
  },
  {
   "cell_type": "code",
   "execution_count": 340,
   "metadata": {
    "collapsed": false
   },
   "outputs": [
    {
     "name": "stdout",
     "output_type": "stream",
     "text": [
      "PROGRESS: Creating a validation set from 5 percent of training data. This may take a while.\n",
      "          You can set ``validation_set=None`` to disable validation tracking.\n",
      "\n"
     ]
    },
    {
     "data": {
      "text/html": [
       "<pre>WARNING: Detected extremely low variance for feature(s) 'ind_var13_medio_0', 'num_var13_medio_0', 'saldo_var13_medio', 'num_meses_var13_medio_ult3', 'saldo_medio_var13_medio_hace2', 'saldo_medio_var13_medio_ult3' because all entries are nearly the same.\n",
       "Proceeding with model training using all features. If the model does not provide results of adequate quality, exclude the above mentioned feature(s) from the input dataset.</pre>"
      ],
      "text/plain": [
       "WARNING: Detected extremely low variance for feature(s) 'ind_var13_medio_0', 'num_var13_medio_0', 'saldo_var13_medio', 'num_meses_var13_medio_ult3', 'saldo_medio_var13_medio_hace2', 'saldo_medio_var13_medio_ult3' because all entries are nearly the same.\n",
       "Proceeding with model training using all features. If the model does not provide results of adequate quality, exclude the above mentioned feature(s) from the input dataset."
      ]
     },
     "metadata": {},
     "output_type": "display_data"
    },
    {
     "data": {
      "text/html": [
       "<pre>Boosted trees classifier:</pre>"
      ],
      "text/plain": [
       "Boosted trees classifier:"
      ]
     },
     "metadata": {},
     "output_type": "display_data"
    },
    {
     "data": {
      "text/html": [
       "<pre>--------------------------------------------------------</pre>"
      ],
      "text/plain": [
       "--------------------------------------------------------"
      ]
     },
     "metadata": {},
     "output_type": "display_data"
    },
    {
     "data": {
      "text/html": [
       "<pre>Number of examples          : 57777</pre>"
      ],
      "text/plain": [
       "Number of examples          : 57777"
      ]
     },
     "metadata": {},
     "output_type": "display_data"
    },
    {
     "data": {
      "text/html": [
       "<pre>Number of classes           : 2</pre>"
      ],
      "text/plain": [
       "Number of classes           : 2"
      ]
     },
     "metadata": {},
     "output_type": "display_data"
    },
    {
     "data": {
      "text/html": [
       "<pre>Number of feature columns   : 301</pre>"
      ],
      "text/plain": [
       "Number of feature columns   : 301"
      ]
     },
     "metadata": {},
     "output_type": "display_data"
    },
    {
     "data": {
      "text/html": [
       "<pre>Number of unpacked features : 301</pre>"
      ],
      "text/plain": [
       "Number of unpacked features : 301"
      ]
     },
     "metadata": {},
     "output_type": "display_data"
    },
    {
     "data": {
      "text/html": [
       "<pre>+-----------+--------------+--------------+----------------+</pre>"
      ],
      "text/plain": [
       "+-----------+--------------+--------------+----------------+"
      ]
     },
     "metadata": {},
     "output_type": "display_data"
    },
    {
     "data": {
      "text/html": [
       "<pre>| Iteration | Elapsed Time | Training-auc | Validation-auc |</pre>"
      ],
      "text/plain": [
       "| Iteration | Elapsed Time | Training-auc | Validation-auc |"
      ]
     },
     "metadata": {},
     "output_type": "display_data"
    },
    {
     "data": {
      "text/html": [
       "<pre>+-----------+--------------+--------------+----------------+</pre>"
      ],
      "text/plain": [
       "+-----------+--------------+--------------+----------------+"
      ]
     },
     "metadata": {},
     "output_type": "display_data"
    },
    {
     "data": {
      "text/html": [
       "<pre>| 1         | 0.903394     | 0.815519     | 0.791514       |</pre>"
      ],
      "text/plain": [
       "| 1         | 0.903394     | 0.815519     | 0.791514       |"
      ]
     },
     "metadata": {},
     "output_type": "display_data"
    },
    {
     "data": {
      "text/html": [
       "<pre>| 2         | 1.634279     | 0.815124     | 0.790708       |</pre>"
      ],
      "text/plain": [
       "| 2         | 1.634279     | 0.815124     | 0.790708       |"
      ]
     },
     "metadata": {},
     "output_type": "display_data"
    },
    {
     "data": {
      "text/html": [
       "<pre>| 3         | 2.412277     | 0.829828     | 0.808169       |</pre>"
      ],
      "text/plain": [
       "| 3         | 2.412277     | 0.829828     | 0.808169       |"
      ]
     },
     "metadata": {},
     "output_type": "display_data"
    },
    {
     "data": {
      "text/html": [
       "<pre>| 4         | 3.101862     | 0.826923     | 0.805941       |</pre>"
      ],
      "text/plain": [
       "| 4         | 3.101862     | 0.826923     | 0.805941       |"
      ]
     },
     "metadata": {},
     "output_type": "display_data"
    },
    {
     "data": {
      "text/html": [
       "<pre>| 5         | 3.930699     | 0.825365     | 0.798688       |</pre>"
      ],
      "text/plain": [
       "| 5         | 3.930699     | 0.825365     | 0.798688       |"
      ]
     },
     "metadata": {},
     "output_type": "display_data"
    },
    {
     "data": {
      "text/html": [
       "<pre>| 6         | 4.828487     | 0.837726     | 0.814891       |</pre>"
      ],
      "text/plain": [
       "| 6         | 4.828487     | 0.837726     | 0.814891       |"
      ]
     },
     "metadata": {},
     "output_type": "display_data"
    },
    {
     "data": {
      "text/html": [
       "<pre>| 10        | 7.002937     | 0.855775     | 0.823712       |</pre>"
      ],
      "text/plain": [
       "| 10        | 7.002937     | 0.855775     | 0.823712       |"
      ]
     },
     "metadata": {},
     "output_type": "display_data"
    },
    {
     "data": {
      "text/html": [
       "<pre>+-----------+--------------+--------------+----------------+</pre>"
      ],
      "text/plain": [
       "+-----------+--------------+--------------+----------------+"
      ]
     },
     "metadata": {},
     "output_type": "display_data"
    }
   ],
   "source": [
    "customer_model = gl.boosted_trees_classifier.create(train_data, target='TARGET', row_subsample=0.7, \n",
    "                                                    max_depth=5, metric='auc',\n",
    "                                                   column_subsample=0.8)"
   ]
  },
  {
   "cell_type": "markdown",
   "metadata": {},
   "source": [
    "## Train a Deep Learning Network"
   ]
  },
  {
   "cell_type": "code",
   "execution_count": 341,
   "metadata": {
    "collapsed": false
   },
   "outputs": [
    {
     "data": {
      "text/plain": [
       "{'accuracy': 0.9622888568809742,\n",
       " 'auc': 0.8260189154249132,\n",
       " 'confusion_matrix': Columns:\n",
       " \ttarget_label\tint\n",
       " \tpredicted_label\tint\n",
       " \tcount\tint\n",
       " \n",
       " Rows: 3\n",
       " \n",
       " Data:\n",
       " +--------------+-----------------+-------+\n",
       " | target_label | predicted_label | count |\n",
       " +--------------+-----------------+-------+\n",
       " |      1       |        1        |   1   |\n",
       " |      1       |        0        |  576  |\n",
       " |      0       |        0        | 14697 |\n",
       " +--------------+-----------------+-------+\n",
       " [3 rows x 3 columns],\n",
       " 'f1_score': 0.003460207612456747,\n",
       " 'log_loss': 0.14185595434217238,\n",
       " 'precision': 1.0,\n",
       " 'recall': 0.0017331022530329288,\n",
       " 'roc_curve': Columns:\n",
       " \tthreshold\tfloat\n",
       " \tfpr\tfloat\n",
       " \ttpr\tfloat\n",
       " \tp\tint\n",
       " \tn\tint\n",
       " \n",
       " Rows: 100001\n",
       " \n",
       " Data:\n",
       " +-----------+-----+-----+-----+-------+\n",
       " | threshold | fpr | tpr |  p  |   n   |\n",
       " +-----------+-----+-----+-----+-------+\n",
       " |    0.0    | 1.0 | 1.0 | 577 | 14697 |\n",
       " |   1e-05   | 1.0 | 1.0 | 577 | 14697 |\n",
       " |   2e-05   | 1.0 | 1.0 | 577 | 14697 |\n",
       " |   3e-05   | 1.0 | 1.0 | 577 | 14697 |\n",
       " |   4e-05   | 1.0 | 1.0 | 577 | 14697 |\n",
       " |   5e-05   | 1.0 | 1.0 | 577 | 14697 |\n",
       " |   6e-05   | 1.0 | 1.0 | 577 | 14697 |\n",
       " |   7e-05   | 1.0 | 1.0 | 577 | 14697 |\n",
       " |   8e-05   | 1.0 | 1.0 | 577 | 14697 |\n",
       " |   9e-05   | 1.0 | 1.0 | 577 | 14697 |\n",
       " +-----------+-----+-----+-----+-------+\n",
       " [100001 rows x 5 columns]\n",
       " Note: Only the head of the SFrame is printed.\n",
       " You can use print_rows(num_rows=m, num_columns=n) to print more rows and columns.}"
      ]
     },
     "execution_count": 341,
     "metadata": {},
     "output_type": "execute_result"
    }
   ],
   "source": [
    "customer_model.evaluate(test_data)"
   ]
  },
  {
   "cell_type": "markdown",
   "metadata": {},
   "source": [
    "## Save Predictions"
   ]
  },
  {
   "cell_type": "code",
   "execution_count": 342,
   "metadata": {
    "collapsed": false
   },
   "outputs": [],
   "source": [
    "prediction = customer_model.predict(test_sframe, output_type='probability')"
   ]
  },
  {
   "cell_type": "code",
   "execution_count": 343,
   "metadata": {
    "collapsed": false
   },
   "outputs": [],
   "source": [
    "#function for making submission\n",
    "def make_submission(prediction, filename='submission.txt'):\n",
    "    with open(filename, 'w') as f:\n",
    "        #header\n",
    "        f.write('ID,TARGET\\n')\n",
    "        submission_strings = test_sframe['ID'].astype(str) + ',' + prediction.astype(str)\n",
    "        for row in submission_strings:\n",
    "            f.write(row + '\\n')\n",
    "\n",
    "make_submission(prediction, 'submission13.txt')\n"
   ]
  },
  {
   "cell_type": "code",
   "execution_count": 344,
   "metadata": {
    "collapsed": false
   },
   "outputs": [
    {
     "data": {
      "text/plain": [
       "'\\n\\n# removing columns that are giving the same information\\nimport numpy as np\\nremove_duplicates = []\\nc = customers.column_names()\\n#test = customers[\\'TARGET\\'].to_numpy()\\nfor i in range(len(c) - 1):\\n    v = customers[c[i]].to_numpy()\\n    for j in range(i+1, len(c)):\\n        if np.array_equal(v, customers[c[j]].to_numpy()):\\n            remove_duplicates.append(c[j])\\n    print \"round\", i, \"done\"\\nprint remove_duplicates\\n#giving the same information ???\\n\\n\\n######################################################################3\\n\\ndef mortgage_divide(mortgage):\\n    if mortgage < 100000:\\n        return 1\\n    else:\\n        return 0\\ncustomers[\\'mortgage_divider\\'] = customers[\\'var38\\'].apply(mortgage_divide)\\n\\n#########################################################################\\n\\n\\n#net = gl.deeplearning.create(train_data, target=\\'TARGET\\')\\nnet = gl.deeplearning.MultiLayerPerceptrons(num_hidden_layers=4,\\n                                           num_hidden_units=[32,64,32,2],\\n                                           activation=\\'relu\\',\\n                                           learning_rate=0.001,\\n                                           max_iterations=5000)\\n                                           \\ndl_customer_model = gl.neuralnet_classifier.create(train_data,\\'TARGET\\',\\n                                                  network=net,\\n                                                  valiation_data=test_data)\\n\\n'"
      ]
     },
     "execution_count": 344,
     "metadata": {},
     "output_type": "execute_result"
    }
   ],
   "source": [
    "'''\n",
    "\n",
    "# removing columns that are giving the same information\n",
    "import numpy as np\n",
    "remove_duplicates = []\n",
    "c = customers.column_names()\n",
    "#test = customers['TARGET'].to_numpy()\n",
    "for i in range(len(c) - 1):\n",
    "    v = customers[c[i]].to_numpy()\n",
    "    for j in range(i+1, len(c)):\n",
    "        if np.array_equal(v, customers[c[j]].to_numpy()):\n",
    "            remove_duplicates.append(c[j])\n",
    "    print \"round\", i, \"done\"\n",
    "print remove_duplicates\n",
    "#giving the same information ???\n",
    "\n",
    "\n",
    "######################################################################3\n",
    "\n",
    "def mortgage_divide(mortgage):\n",
    "    if mortgage < 100000:\n",
    "        return 1\n",
    "    else:\n",
    "        return 0\n",
    "customers['mortgage_divider'] = customers['var38'].apply(mortgage_divide)\n",
    "\n",
    "#########################################################################\n",
    "\n",
    "\n",
    "#net = gl.deeplearning.create(train_data, target='TARGET')\n",
    "net = gl.deeplearning.MultiLayerPerceptrons(num_hidden_layers=4,\n",
    "                                           num_hidden_units=[32,64,32,2],\n",
    "                                           activation='relu',\n",
    "                                           learning_rate=0.001,\n",
    "                                           max_iterations=5000)\n",
    "                                           \n",
    "dl_customer_model = gl.neuralnet_classifier.create(train_data,'TARGET',\n",
    "                                                  network=net,\n",
    "                                                  valiation_data=test_data)\n",
    "\n",
    "'''"
   ]
  },
  {
   "cell_type": "code",
   "execution_count": null,
   "metadata": {
    "collapsed": true
   },
   "outputs": [],
   "source": []
  }
 ],
 "metadata": {
  "kernelspec": {
   "display_name": "Python 2",
   "language": "python",
   "name": "python2"
  },
  "language_info": {
   "codemirror_mode": {
    "name": "ipython",
    "version": 2
   },
   "file_extension": ".py",
   "mimetype": "text/x-python",
   "name": "python",
   "nbconvert_exporter": "python",
   "pygments_lexer": "ipython2",
   "version": "2.7.11"
  }
 },
 "nbformat": 4,
 "nbformat_minor": 0
}
